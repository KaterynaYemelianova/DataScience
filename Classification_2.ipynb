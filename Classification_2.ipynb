{
  "cells": [
    {
      "cell_type": "markdown",
      "source": [
        "#Imports"
      ],
      "metadata": {
        "id": "zxGie0DBRRbY"
      }
    },
    {
      "cell_type": "code",
      "execution_count": null,
      "metadata": {
        "colab": {
          "base_uri": "https://localhost:8080/"
        },
        "id": "o-KfhkaQJE3A",
        "outputId": "3a71457a-e450-4439-f25f-a0aebcc7f400"
      },
      "outputs": [
        {
          "output_type": "stream",
          "name": "stdout",
          "text": [
            "Looking in indexes: https://pypi.org/simple, https://us-python.pkg.dev/colab-wheels/public/simple/\n",
            "Collecting contractions\n",
            "  Downloading contractions-0.1.73-py2.py3-none-any.whl (8.7 kB)\n",
            "Collecting textsearch>=0.0.21\n",
            "  Downloading textsearch-0.0.24-py2.py3-none-any.whl (7.6 kB)\n",
            "Collecting anyascii\n",
            "  Downloading anyascii-0.3.1-py3-none-any.whl (287 kB)\n",
            "\u001b[2K     \u001b[90m━━━━━━━━━━━━━━━━━━━━━━━━━━━━━━━━━━━━━━━\u001b[0m \u001b[32m287.5/287.5 KB\u001b[0m \u001b[31m4.2 MB/s\u001b[0m eta \u001b[36m0:00:00\u001b[0m\n",
            "\u001b[?25hCollecting pyahocorasick\n",
            "  Downloading pyahocorasick-2.0.0-cp38-cp38-manylinux_2_5_x86_64.manylinux1_x86_64.whl (104 kB)\n",
            "\u001b[2K     \u001b[90m━━━━━━━━━━━━━━━━━━━━━━━━━━━━━━━━━━━━━━━\u001b[0m \u001b[32m104.5/104.5 KB\u001b[0m \u001b[31m5.3 MB/s\u001b[0m eta \u001b[36m0:00:00\u001b[0m\n",
            "\u001b[?25hInstalling collected packages: pyahocorasick, anyascii, textsearch, contractions\n",
            "Successfully installed anyascii-0.3.1 contractions-0.1.73 pyahocorasick-2.0.0 textsearch-0.0.24\n"
          ]
        }
      ],
      "source": [
        "pip install contractions"
      ]
    },
    {
      "cell_type": "code",
      "execution_count": null,
      "metadata": {
        "colab": {
          "base_uri": "https://localhost:8080/"
        },
        "id": "SvrdYGujMxi0",
        "outputId": "6cfa2bae-1f34-45b5-bda4-70cc5e069ad6"
      },
      "outputs": [
        {
          "output_type": "stream",
          "name": "stderr",
          "text": [
            "[nltk_data] Downloading package stopwords to /root/nltk_data...\n",
            "[nltk_data]   Unzipping corpora/stopwords.zip.\n",
            "[nltk_data] Downloading package wordnet to /root/nltk_data...\n",
            "[nltk_data] Downloading package averaged_perceptron_tagger to\n",
            "[nltk_data]     /root/nltk_data...\n",
            "[nltk_data]   Unzipping taggers/averaged_perceptron_tagger.zip.\n",
            "[nltk_data] Downloading package omw-1.4 to /root/nltk_data...\n"
          ]
        },
        {
          "output_type": "execute_result",
          "data": {
            "text/plain": [
              "True"
            ]
          },
          "metadata": {},
          "execution_count": 3
        }
      ],
      "source": [
        "import nltk\n",
        "nltk.download('stopwords')\n",
        "nltk.download('wordnet')\n",
        "nltk.download('averaged_perceptron_tagger')\n",
        "nltk.download('omw-1.4')"
      ]
    },
    {
      "cell_type": "code",
      "execution_count": null,
      "metadata": {
        "id": "KH66d0WLxNua"
      },
      "outputs": [],
      "source": [
        "import numpy as np\n",
        "import pandas as pd\n",
        "import seaborn as sns\n",
        "import matplotlib.pyplot as plt\n",
        "\n",
        "from sklearn.model_selection import train_test_split\n",
        "from sklearn.feature_extraction.text import CountVectorizer\n",
        "from sklearn.feature_extraction.text import TfidfTransformer\n",
        "from sklearn.preprocessing import LabelBinarizer\n",
        "\n",
        "from nltk.corpus import stopwords\n",
        "from nltk.stem.porter import PorterStemmer\n",
        "from nltk.stem import WordNetLemmatizer\n",
        "from nltk.tokenize.toktok import ToktokTokenizer\n",
        "from nltk.stem import WordNetLemmatizer\n",
        "\n",
        "from bs4 import BeautifulSoup\n",
        "\n",
        "import re,string\n",
        "import contractions\n",
        "\n",
        "from sklearn.linear_model import SGDClassifier\n",
        "from sklearn.naive_bayes import MultinomialNB\n",
        "from sklearn.svm import SVC, LinearSVC\n",
        "\n",
        "from sklearn.pipeline import Pipeline\n",
        "from sklearn.model_selection import GridSearchCV\n",
        "from sklearn.metrics import roc_auc_score, make_scorer\n",
        "from sklearn.metrics import RocCurveDisplay\n",
        "\n",
        "import os\n",
        "import warnings\n",
        "warnings.filterwarnings('ignore')"
      ]
    },
    {
      "cell_type": "markdown",
      "source": [
        "#Importing dataset"
      ],
      "metadata": {
        "id": "qrFNowEKRLFf"
      }
    },
    {
      "cell_type": "markdown",
      "source": [
        "Dataset info:\n",
        "\n",
        "This is a dataset for binary sentiment classification. We provide a set of 50,000 highly polar movie reviews for training and testing."
      ],
      "metadata": {
        "id": "QwNEOTqmBxn7"
      }
    },
    {
      "cell_type": "code",
      "source": [
        "from google.colab import drive\n",
        "\n",
        "drive.mount('/content/gdrive/', force_remount=True)"
      ],
      "metadata": {
        "colab": {
          "base_uri": "https://localhost:8080/"
        },
        "id": "qibSxD0S2w2-",
        "outputId": "100d3737-210e-4170-9bec-e31d263803ae"
      },
      "execution_count": null,
      "outputs": [
        {
          "output_type": "stream",
          "name": "stdout",
          "text": [
            "Mounted at /content/gdrive/\n"
          ]
        }
      ]
    },
    {
      "cell_type": "code",
      "execution_count": null,
      "metadata": {
        "colab": {
          "base_uri": "https://localhost:8080/",
          "height": 206
        },
        "id": "Sb0jd4mpvzF1",
        "outputId": "917e6e17-2379-4d54-82f2-a3ff327b3171"
      },
      "outputs": [
        {
          "output_type": "execute_result",
          "data": {
            "text/plain": [
              "                                              review sentiment\n",
              "0  One of the other reviewers has mentioned that ...  positive\n",
              "1  A wonderful little production. <br /><br />The...  positive\n",
              "2  I thought this was a wonderful way to spend ti...  positive\n",
              "3  Basically there's a family where a little boy ...  negative\n",
              "4  Petter Mattei's \"Love in the Time of Money\" is...  positive"
            ],
            "text/html": [
              "\n",
              "  <div id=\"df-3a1cee11-c423-4863-afce-15f6062e08f4\">\n",
              "    <div class=\"colab-df-container\">\n",
              "      <div>\n",
              "<style scoped>\n",
              "    .dataframe tbody tr th:only-of-type {\n",
              "        vertical-align: middle;\n",
              "    }\n",
              "\n",
              "    .dataframe tbody tr th {\n",
              "        vertical-align: top;\n",
              "    }\n",
              "\n",
              "    .dataframe thead th {\n",
              "        text-align: right;\n",
              "    }\n",
              "</style>\n",
              "<table border=\"1\" class=\"dataframe\">\n",
              "  <thead>\n",
              "    <tr style=\"text-align: right;\">\n",
              "      <th></th>\n",
              "      <th>review</th>\n",
              "      <th>sentiment</th>\n",
              "    </tr>\n",
              "  </thead>\n",
              "  <tbody>\n",
              "    <tr>\n",
              "      <th>0</th>\n",
              "      <td>One of the other reviewers has mentioned that ...</td>\n",
              "      <td>positive</td>\n",
              "    </tr>\n",
              "    <tr>\n",
              "      <th>1</th>\n",
              "      <td>A wonderful little production. &lt;br /&gt;&lt;br /&gt;The...</td>\n",
              "      <td>positive</td>\n",
              "    </tr>\n",
              "    <tr>\n",
              "      <th>2</th>\n",
              "      <td>I thought this was a wonderful way to spend ti...</td>\n",
              "      <td>positive</td>\n",
              "    </tr>\n",
              "    <tr>\n",
              "      <th>3</th>\n",
              "      <td>Basically there's a family where a little boy ...</td>\n",
              "      <td>negative</td>\n",
              "    </tr>\n",
              "    <tr>\n",
              "      <th>4</th>\n",
              "      <td>Petter Mattei's \"Love in the Time of Money\" is...</td>\n",
              "      <td>positive</td>\n",
              "    </tr>\n",
              "  </tbody>\n",
              "</table>\n",
              "</div>\n",
              "      <button class=\"colab-df-convert\" onclick=\"convertToInteractive('df-3a1cee11-c423-4863-afce-15f6062e08f4')\"\n",
              "              title=\"Convert this dataframe to an interactive table.\"\n",
              "              style=\"display:none;\">\n",
              "        \n",
              "  <svg xmlns=\"http://www.w3.org/2000/svg\" height=\"24px\"viewBox=\"0 0 24 24\"\n",
              "       width=\"24px\">\n",
              "    <path d=\"M0 0h24v24H0V0z\" fill=\"none\"/>\n",
              "    <path d=\"M18.56 5.44l.94 2.06.94-2.06 2.06-.94-2.06-.94-.94-2.06-.94 2.06-2.06.94zm-11 1L8.5 8.5l.94-2.06 2.06-.94-2.06-.94L8.5 2.5l-.94 2.06-2.06.94zm10 10l.94 2.06.94-2.06 2.06-.94-2.06-.94-.94-2.06-.94 2.06-2.06.94z\"/><path d=\"M17.41 7.96l-1.37-1.37c-.4-.4-.92-.59-1.43-.59-.52 0-1.04.2-1.43.59L10.3 9.45l-7.72 7.72c-.78.78-.78 2.05 0 2.83L4 21.41c.39.39.9.59 1.41.59.51 0 1.02-.2 1.41-.59l7.78-7.78 2.81-2.81c.8-.78.8-2.07 0-2.86zM5.41 20L4 18.59l7.72-7.72 1.47 1.35L5.41 20z\"/>\n",
              "  </svg>\n",
              "      </button>\n",
              "      \n",
              "  <style>\n",
              "    .colab-df-container {\n",
              "      display:flex;\n",
              "      flex-wrap:wrap;\n",
              "      gap: 12px;\n",
              "    }\n",
              "\n",
              "    .colab-df-convert {\n",
              "      background-color: #E8F0FE;\n",
              "      border: none;\n",
              "      border-radius: 50%;\n",
              "      cursor: pointer;\n",
              "      display: none;\n",
              "      fill: #1967D2;\n",
              "      height: 32px;\n",
              "      padding: 0 0 0 0;\n",
              "      width: 32px;\n",
              "    }\n",
              "\n",
              "    .colab-df-convert:hover {\n",
              "      background-color: #E2EBFA;\n",
              "      box-shadow: 0px 1px 2px rgba(60, 64, 67, 0.3), 0px 1px 3px 1px rgba(60, 64, 67, 0.15);\n",
              "      fill: #174EA6;\n",
              "    }\n",
              "\n",
              "    [theme=dark] .colab-df-convert {\n",
              "      background-color: #3B4455;\n",
              "      fill: #D2E3FC;\n",
              "    }\n",
              "\n",
              "    [theme=dark] .colab-df-convert:hover {\n",
              "      background-color: #434B5C;\n",
              "      box-shadow: 0px 1px 3px 1px rgba(0, 0, 0, 0.15);\n",
              "      filter: drop-shadow(0px 1px 2px rgba(0, 0, 0, 0.3));\n",
              "      fill: #FFFFFF;\n",
              "    }\n",
              "  </style>\n",
              "\n",
              "      <script>\n",
              "        const buttonEl =\n",
              "          document.querySelector('#df-3a1cee11-c423-4863-afce-15f6062e08f4 button.colab-df-convert');\n",
              "        buttonEl.style.display =\n",
              "          google.colab.kernel.accessAllowed ? 'block' : 'none';\n",
              "\n",
              "        async function convertToInteractive(key) {\n",
              "          const element = document.querySelector('#df-3a1cee11-c423-4863-afce-15f6062e08f4');\n",
              "          const dataTable =\n",
              "            await google.colab.kernel.invokeFunction('convertToInteractive',\n",
              "                                                     [key], {});\n",
              "          if (!dataTable) return;\n",
              "\n",
              "          const docLinkHtml = 'Like what you see? Visit the ' +\n",
              "            '<a target=\"_blank\" href=https://colab.research.google.com/notebooks/data_table.ipynb>data table notebook</a>'\n",
              "            + ' to learn more about interactive tables.';\n",
              "          element.innerHTML = '';\n",
              "          dataTable['output_type'] = 'display_data';\n",
              "          await google.colab.output.renderOutput(dataTable, element);\n",
              "          const docLink = document.createElement('div');\n",
              "          docLink.innerHTML = docLinkHtml;\n",
              "          element.appendChild(docLink);\n",
              "        }\n",
              "      </script>\n",
              "    </div>\n",
              "  </div>\n",
              "  "
            ]
          },
          "metadata": {},
          "execution_count": 6
        }
      ],
      "source": [
        "df=pd.read_csv('/content/gdrive/MyDrive/LargeMovieReviewDataset.csv')\n",
        "df.head()"
      ]
    },
    {
      "cell_type": "code",
      "execution_count": null,
      "metadata": {
        "colab": {
          "base_uri": "https://localhost:8080/"
        },
        "id": "4evxFeHnxsw5",
        "outputId": "82acc069-85ca-406e-fd6f-01ad14e06063"
      },
      "outputs": [
        {
          "output_type": "execute_result",
          "data": {
            "text/plain": [
              "(50000, 2)"
            ]
          },
          "metadata": {},
          "execution_count": 87
        }
      ],
      "source": [
        "df.shape"
      ]
    },
    {
      "cell_type": "markdown",
      "source": [
        "So we see that our dataset contains 50000 records and 2 columns: review and sentiment."
      ],
      "metadata": {
        "id": "UC0SVjlbB8Wh"
      }
    },
    {
      "cell_type": "code",
      "execution_count": null,
      "metadata": {
        "colab": {
          "base_uri": "https://localhost:8080/",
          "height": 175
        },
        "id": "wA1dyduUxu7X",
        "outputId": "46d1e842-cf72-45ab-efaf-7386c052ac35"
      },
      "outputs": [
        {
          "output_type": "execute_result",
          "data": {
            "text/plain": [
              "                                                   review sentiment\n",
              "count                                               50000     50000\n",
              "unique                                              49582         2\n",
              "top     Loved today's show!!! It was a variety and not...  positive\n",
              "freq                                                    5     25000"
            ],
            "text/html": [
              "\n",
              "  <div id=\"df-d3c5a87d-dc7d-41cb-bd03-1a8bee64b728\">\n",
              "    <div class=\"colab-df-container\">\n",
              "      <div>\n",
              "<style scoped>\n",
              "    .dataframe tbody tr th:only-of-type {\n",
              "        vertical-align: middle;\n",
              "    }\n",
              "\n",
              "    .dataframe tbody tr th {\n",
              "        vertical-align: top;\n",
              "    }\n",
              "\n",
              "    .dataframe thead th {\n",
              "        text-align: right;\n",
              "    }\n",
              "</style>\n",
              "<table border=\"1\" class=\"dataframe\">\n",
              "  <thead>\n",
              "    <tr style=\"text-align: right;\">\n",
              "      <th></th>\n",
              "      <th>review</th>\n",
              "      <th>sentiment</th>\n",
              "    </tr>\n",
              "  </thead>\n",
              "  <tbody>\n",
              "    <tr>\n",
              "      <th>count</th>\n",
              "      <td>50000</td>\n",
              "      <td>50000</td>\n",
              "    </tr>\n",
              "    <tr>\n",
              "      <th>unique</th>\n",
              "      <td>49582</td>\n",
              "      <td>2</td>\n",
              "    </tr>\n",
              "    <tr>\n",
              "      <th>top</th>\n",
              "      <td>Loved today's show!!! It was a variety and not...</td>\n",
              "      <td>positive</td>\n",
              "    </tr>\n",
              "    <tr>\n",
              "      <th>freq</th>\n",
              "      <td>5</td>\n",
              "      <td>25000</td>\n",
              "    </tr>\n",
              "  </tbody>\n",
              "</table>\n",
              "</div>\n",
              "      <button class=\"colab-df-convert\" onclick=\"convertToInteractive('df-d3c5a87d-dc7d-41cb-bd03-1a8bee64b728')\"\n",
              "              title=\"Convert this dataframe to an interactive table.\"\n",
              "              style=\"display:none;\">\n",
              "        \n",
              "  <svg xmlns=\"http://www.w3.org/2000/svg\" height=\"24px\"viewBox=\"0 0 24 24\"\n",
              "       width=\"24px\">\n",
              "    <path d=\"M0 0h24v24H0V0z\" fill=\"none\"/>\n",
              "    <path d=\"M18.56 5.44l.94 2.06.94-2.06 2.06-.94-2.06-.94-.94-2.06-.94 2.06-2.06.94zm-11 1L8.5 8.5l.94-2.06 2.06-.94-2.06-.94L8.5 2.5l-.94 2.06-2.06.94zm10 10l.94 2.06.94-2.06 2.06-.94-2.06-.94-.94-2.06-.94 2.06-2.06.94z\"/><path d=\"M17.41 7.96l-1.37-1.37c-.4-.4-.92-.59-1.43-.59-.52 0-1.04.2-1.43.59L10.3 9.45l-7.72 7.72c-.78.78-.78 2.05 0 2.83L4 21.41c.39.39.9.59 1.41.59.51 0 1.02-.2 1.41-.59l7.78-7.78 2.81-2.81c.8-.78.8-2.07 0-2.86zM5.41 20L4 18.59l7.72-7.72 1.47 1.35L5.41 20z\"/>\n",
              "  </svg>\n",
              "      </button>\n",
              "      \n",
              "  <style>\n",
              "    .colab-df-container {\n",
              "      display:flex;\n",
              "      flex-wrap:wrap;\n",
              "      gap: 12px;\n",
              "    }\n",
              "\n",
              "    .colab-df-convert {\n",
              "      background-color: #E8F0FE;\n",
              "      border: none;\n",
              "      border-radius: 50%;\n",
              "      cursor: pointer;\n",
              "      display: none;\n",
              "      fill: #1967D2;\n",
              "      height: 32px;\n",
              "      padding: 0 0 0 0;\n",
              "      width: 32px;\n",
              "    }\n",
              "\n",
              "    .colab-df-convert:hover {\n",
              "      background-color: #E2EBFA;\n",
              "      box-shadow: 0px 1px 2px rgba(60, 64, 67, 0.3), 0px 1px 3px 1px rgba(60, 64, 67, 0.15);\n",
              "      fill: #174EA6;\n",
              "    }\n",
              "\n",
              "    [theme=dark] .colab-df-convert {\n",
              "      background-color: #3B4455;\n",
              "      fill: #D2E3FC;\n",
              "    }\n",
              "\n",
              "    [theme=dark] .colab-df-convert:hover {\n",
              "      background-color: #434B5C;\n",
              "      box-shadow: 0px 1px 3px 1px rgba(0, 0, 0, 0.15);\n",
              "      filter: drop-shadow(0px 1px 2px rgba(0, 0, 0, 0.3));\n",
              "      fill: #FFFFFF;\n",
              "    }\n",
              "  </style>\n",
              "\n",
              "      <script>\n",
              "        const buttonEl =\n",
              "          document.querySelector('#df-d3c5a87d-dc7d-41cb-bd03-1a8bee64b728 button.colab-df-convert');\n",
              "        buttonEl.style.display =\n",
              "          google.colab.kernel.accessAllowed ? 'block' : 'none';\n",
              "\n",
              "        async function convertToInteractive(key) {\n",
              "          const element = document.querySelector('#df-d3c5a87d-dc7d-41cb-bd03-1a8bee64b728');\n",
              "          const dataTable =\n",
              "            await google.colab.kernel.invokeFunction('convertToInteractive',\n",
              "                                                     [key], {});\n",
              "          if (!dataTable) return;\n",
              "\n",
              "          const docLinkHtml = 'Like what you see? Visit the ' +\n",
              "            '<a target=\"_blank\" href=https://colab.research.google.com/notebooks/data_table.ipynb>data table notebook</a>'\n",
              "            + ' to learn more about interactive tables.';\n",
              "          element.innerHTML = '';\n",
              "          dataTable['output_type'] = 'display_data';\n",
              "          await google.colab.output.renderOutput(dataTable, element);\n",
              "          const docLink = document.createElement('div');\n",
              "          docLink.innerHTML = docLinkHtml;\n",
              "          element.appendChild(docLink);\n",
              "        }\n",
              "      </script>\n",
              "    </div>\n",
              "  </div>\n",
              "  "
            ]
          },
          "metadata": {},
          "execution_count": 6
        }
      ],
      "source": [
        "df.describe()"
      ]
    },
    {
      "cell_type": "markdown",
      "source": [
        "There are 49582/50000 unique reviews."
      ],
      "metadata": {
        "id": "fowW1F5OC3WN"
      }
    },
    {
      "cell_type": "code",
      "execution_count": null,
      "metadata": {
        "colab": {
          "base_uri": "https://localhost:8080/"
        },
        "id": "Z3POsR_Nx5mG",
        "outputId": "99c1911b-46d8-4ee6-b933-798a5fb376e2"
      },
      "outputs": [
        {
          "output_type": "execute_result",
          "data": {
            "text/plain": [
              "positive    25000\n",
              "negative    25000\n",
              "Name: sentiment, dtype: int64"
            ]
          },
          "metadata": {},
          "execution_count": 7
        }
      ],
      "source": [
        "df['sentiment'].value_counts()"
      ]
    },
    {
      "cell_type": "markdown",
      "source": [
        "Our dataset is balanced: each target class is represented by the same number of input samples (25000)."
      ],
      "metadata": {
        "id": "LRUAM_4RC-Rj"
      }
    },
    {
      "cell_type": "code",
      "execution_count": null,
      "metadata": {
        "colab": {
          "base_uri": "https://localhost:8080/"
        },
        "id": "hiYgk_8u-4WK",
        "outputId": "b94ec126-e4be-4dca-dc01-dc21abede57b"
      },
      "outputs": [
        {
          "output_type": "stream",
          "name": "stdout",
          "text": [
            "<class 'pandas.core.frame.DataFrame'>\n",
            "RangeIndex: 50000 entries, 0 to 49999\n",
            "Data columns (total 2 columns):\n",
            " #   Column     Non-Null Count  Dtype \n",
            "---  ------     --------------  ----- \n",
            " 0   review     50000 non-null  object\n",
            " 1   sentiment  50000 non-null  object\n",
            "dtypes: object(2)\n",
            "memory usage: 781.4+ KB\n"
          ]
        }
      ],
      "source": [
        "df.info()"
      ]
    },
    {
      "cell_type": "markdown",
      "source": [
        "Is seems there are no null values in the dataset."
      ],
      "metadata": {
        "id": "Pa_imURJDXoJ"
      }
    },
    {
      "cell_type": "markdown",
      "metadata": {
        "id": "DAF4gJo3FWeM"
      },
      "source": [
        "#Cleaning and tokenization"
      ]
    },
    {
      "cell_type": "markdown",
      "source": [
        "Let's take a look at one review from our dataset:"
      ],
      "metadata": {
        "id": "bWgaH4dULK7G"
      }
    },
    {
      "cell_type": "code",
      "source": [
        "df['review'][45]"
      ],
      "metadata": {
        "colab": {
          "base_uri": "https://localhost:8080/",
          "height": 175
        },
        "id": "LBCe5G8MNU6H",
        "outputId": "0105694a-3544-4f4e-e5b2-a5c4af5c5bc0"
      },
      "execution_count": null,
      "outputs": [
        {
          "output_type": "execute_result",
          "data": {
            "text/plain": [
              "\"As a disclaimer, I've seen the movie 5-6 times in the last 15 years, and I only just saw the musical this week. This allowed me to judge the movie without being tainted by what was or wasn't in the musical (however, it tainted me when I watched the musical :) ) <br /><br />I actually believe Michael Douglas worked quite well in that role, along with Kasey. I think her 'Let me dance for you scene' is one of the best parts of the movie, a worthwhile addition compared to the musical. The dancers and singing in the movie are much superior to the musical, as well as the cast which is at least 10 times bigger (easier to do in the movie of course). The decors, lighting, dancing, and singing are also much superior in the movie, which should be expected, and was indeed delivered. <br /><br />The songs that were in common with the musical are better done in the movie, the new ones are quite good ones, and the whole movie just delivers more than the musical in my opinion, especially compared to a musical which has few decors. The one bad point on the movie is the obvious cuts between the actors talking, and dubbed singers during the singing portions for some of the characters, but their dancing is impeccable, and the end product was more enjoyable than the musical\""
            ],
            "application/vnd.google.colaboratory.intrinsic+json": {
              "type": "string"
            }
          },
          "metadata": {},
          "execution_count": 121
        }
      ]
    },
    {
      "cell_type": "markdown",
      "source": [
        "First I'd like to reduce the noise in the data: remove/transform some parts of the text using regular expressions to make the text more understandable for future models. I'll remove html tags, brackets, links, punctuation, etc. Also, since the subject of our research is movie reviews, I'd expect emojis to be there. I'll separate the emojis into positive and negative ones and replace them with the words 'emopos' and 'emoneg' respectively. Since there is informal speech in the text, I will deal with the repetition of letters as well."
      ],
      "metadata": {
        "id": "bbXTJfkyEFjJ"
      }
    },
    {
      "cell_type": "code",
      "execution_count": null,
      "metadata": {
        "id": "wsvpwkdO9_Kx"
      },
      "outputs": [],
      "source": [
        "def replace_emoji(text):\n",
        "\n",
        "  ''' Replacing emojis with words that separate positive and negative ones '''\n",
        "\n",
        "  # smile -- :), : ), :-), (:, ( :, (-:, :')\n",
        "  text = re.sub(r'(:\\s?\\)|:-\\)|\\(\\s?:|\\(-:|:\\'\\))', ' emopos ', text)\n",
        "  # laugh -- :D, : D, :-D, xD, x-D, XD, X-D\n",
        "  text = re.sub(r'(:\\s?D|:-D|x-?D|X-?D)', ' emopos ', text)\n",
        "  # love -- <3, :*\n",
        "  text = re.sub(r'(<3|:\\*)', ' emopos ', text)\n",
        "  # wink -- ;-), ;), ;-D, ;D, (;,  (-;\n",
        "  text = re.sub(r'(;-?\\)|;-?D|\\(-?;)', ' emopos ', text)\n",
        "  # sad -- :-(, : (, :(, ):, )-:\n",
        "  text = re.sub(r'(:\\s?\\(|:-\\(|\\)\\s?:|\\)-:)', ' emoneg ', text)\n",
        "  # cry -- :,(, :'(, :\"(\n",
        "  text = re.sub(r'(:,\\(|:\\'\\(|:\"\\()', ' emoneg ', text)\n",
        "\n",
        "  return text\n",
        "\n",
        "\n",
        "def remove_html(text):\n",
        "\n",
        "  ''' Removing html tags '''\n",
        "\n",
        "  soup = BeautifulSoup(text, \"html.parser\")\n",
        "  return soup.get_text()\n",
        "\n",
        "\n",
        "def clean_text(text):\n",
        "  # removing html\n",
        "  text = remove_html(text)\n",
        "\n",
        "  # removing square brackets\n",
        "  text = re.sub('\\[[^]]*\\]', ' ', text)\n",
        "\n",
        "  # replacing contractions\n",
        "  text = contractions.fix(text)\n",
        "\n",
        "  # replacing emoji\n",
        "  text = replace_emoji(text)\n",
        "\n",
        "  # removing links\n",
        "  text = re.sub('https?://\\S+|www\\.\\S+', ' ', text)\n",
        "\n",
        "  # removing text in angle brackets\n",
        "  text = re.sub('<.*?>+', ' ', text)\n",
        "\n",
        "  # removing punctuation\n",
        "  text = re.sub('[%s]' % re.escape(string.punctuation), ' ', text)\n",
        "\n",
        "  # removing words with digits\n",
        "  text = re.sub('\\w*\\d\\w*', ' ', text)\n",
        "\n",
        "  # removing special characters\n",
        "  text=re.sub('[^a-zA-z0-9\\s]',' ',text)\n",
        "\n",
        "  # replacing more than one space with one space\n",
        "  text = re.sub(' +', ' ', text)\n",
        "\n",
        "  # replacing more than 2 letter repetitions with 2 letters\n",
        "  text = re.sub(r'(.)\\1+', r'\\1\\1', text)\n",
        "\n",
        "  # converting text to lower case\n",
        "  text = text.lower()\n",
        "\n",
        "  return text"
      ]
    },
    {
      "cell_type": "markdown",
      "source": [
        "Let's apply the function for cleaning the text on review column."
      ],
      "metadata": {
        "id": "zRJA7rM3_h5b"
      }
    },
    {
      "cell_type": "code",
      "source": [
        "df['review']=df['review'].apply(clean_text)"
      ],
      "metadata": {
        "id": "chBTtsxP_Uxm"
      },
      "execution_count": null,
      "outputs": []
    },
    {
      "cell_type": "markdown",
      "source": [
        "In the next step, I'll tokenize the text using `ToktokTokenizer` to break text into chunks and remove the stopwords using `nltk.corpus.stopwords`."
      ],
      "metadata": {
        "id": "2ukIgGqWOpnw"
      }
    },
    {
      "cell_type": "code",
      "execution_count": null,
      "metadata": {
        "id": "T3CbOjBr7HqA"
      },
      "outputs": [],
      "source": [
        "# Tokenizer\n",
        "tokenizer=ToktokTokenizer()\n",
        "# Setting English stopwords\n",
        "stopword_list=nltk.corpus.stopwords.words('english')"
      ]
    },
    {
      "cell_type": "code",
      "execution_count": null,
      "metadata": {
        "id": "ALFHR7h--rMv"
      },
      "outputs": [],
      "source": [
        "stop=set(nltk.corpus.stopwords.words('english'))\n",
        "\n",
        "# Removing the stopwords\n",
        "def remove_stopwords(text, stop, is_lower_case=False):\n",
        "\n",
        "    tokens = tokenizer.tokenize(text)\n",
        "    tokens = [token.strip() for token in tokens]\n",
        "    filtered_tokens = [token for token in tokens if token not in stop]\n",
        "\n",
        "    filtered_text = ' '.join(filtered_tokens)\n",
        "    return filtered_text\n",
        "\n",
        "# Applying the function\n",
        "df['review']=df['review'].apply(remove_stopwords, stop=stop)"
      ]
    },
    {
      "cell_type": "markdown",
      "source": [
        "#Normalisation"
      ],
      "metadata": {
        "id": "xpBS4J91RpDo"
      }
    },
    {
      "cell_type": "markdown",
      "source": [
        "Now we should normalize the dataset. We'll perform lemmatization (using `WordNetLemmatizer`) and stemming (using `PorterStemmer`) and look at the results. In order to optimize and reduce the execution time, I'll use data caching (dictionaries `CACHE_LEMS` and `CACHE_STEMS`)."
      ],
      "metadata": {
        "id": "i4p4r0ApDK7I"
      }
    },
    {
      "cell_type": "code",
      "source": [
        "# Constants\n",
        "# POS (Parts Of Speech) for: nouns, adjectives, verbs and adverbs\n",
        "DI_POS_TYPES = {'NN':'n', 'JJ':'a', 'VB':'v', 'RB':'r'}\n",
        "MIN_STR_LEN = 3\n",
        "POS_TYPES = list(DI_POS_TYPES.keys())\n",
        "\n",
        "CACHE_LEMS = {}\n",
        "\n",
        "# Lemmatizer initialization\n",
        "lemmatizer = nltk.stem.WordNetLemmatizer()\n",
        "\n",
        "# Word lemmatization\n",
        "def lemmatize(word):\n",
        "\n",
        "  if len(word) >= MIN_STR_LEN:\n",
        "    if word in CACHE_LEMS:\n",
        "      return CACHE_LEMS[word]\n",
        "\n",
        "    pos = nltk.pos_tag([word])[0][1][:2]\n",
        "    pos2 = 'n'  # set default to noun\n",
        "\n",
        "    if pos in DI_POS_TYPES:\n",
        "      pos2 = DI_POS_TYPES[pos]\n",
        "\n",
        "    lem = lemmatizer.lemmatize(word, pos2)\n",
        "    CACHE_LEMS[word] = lem\n",
        "    return lem\n",
        "\n",
        "  else:\n",
        "    return word"
      ],
      "metadata": {
        "id": "fPlf4j8ODvT1"
      },
      "execution_count": null,
      "outputs": []
    },
    {
      "cell_type": "code",
      "source": [
        "CACHE_STEMS = {}\n",
        "\n",
        "# Stemmer initialization\n",
        "pstemmer=nltk.porter.PorterStemmer()\n",
        "\n",
        "# Word stemming\n",
        "def stemm(word):\n",
        "    if word in CACHE_STEMS:\n",
        "      return CACHE_STEMS[word]\n",
        "    stem = pstemmer.stem(word)\n",
        "    CACHE_STEMS[word] = stem\n",
        "    return stem"
      ],
      "metadata": {
        "id": "khtoHkdfEwKE"
      },
      "execution_count": null,
      "outputs": []
    },
    {
      "cell_type": "markdown",
      "source": [
        "For further comparison I'll create lists for initial words, words after lemmatization and words after stemming. To speed up the search for words, I'll also create a set of words."
      ],
      "metadata": {
        "id": "wnYBbwWMFi5N"
      }
    },
    {
      "cell_type": "code",
      "source": [
        "# Set of words and lists for initial words, lemmatized words and stemmed words\n",
        "words_set = set()\n",
        "words = []\n",
        "lems = []\n",
        "stems = []\n",
        "\n",
        "\n",
        "# Text normalization\n",
        "def normalize(text):\n",
        "  # lists for keeping the results of lemmatization and stemming\n",
        "  lems_res = []\n",
        "  stems_res = []\n",
        "\n",
        "  for word in text.split():\n",
        "\n",
        "    lem = lemmatize(word)\n",
        "    stem = stemm(word)\n",
        "\n",
        "    lems_res.append(lem)\n",
        "    stems_res.append(stem)\n",
        "\n",
        "    if word not in words_set:\n",
        "      words_set.add(word)\n",
        "      words.append(word)\n",
        "      lems.append(lem)\n",
        "      stems.append(stem)\n",
        "\n",
        "  return pd.Series([' '.join(stems_res), ' '.join(lems_res)])\n",
        "\n",
        "# Applying the function\n",
        "df[['stem', 'lem']] = df['review'].apply(normalize)"
      ],
      "metadata": {
        "id": "mg5OyWWnVscc"
      },
      "execution_count": null,
      "outputs": []
    },
    {
      "cell_type": "markdown",
      "source": [
        "Now we can compare the results of stemming and lemmatization."
      ],
      "metadata": {
        "id": "1Be7R_XuHj-t"
      }
    },
    {
      "cell_type": "code",
      "source": [
        "wls = pd.DataFrame({'word': words, 'lem':lems, 'stem': stems})\n",
        "wls.head(20).T"
      ],
      "metadata": {
        "colab": {
          "base_uri": "https://localhost:8080/",
          "height": 207
        },
        "id": "4vf7k467tKBK",
        "outputId": "f34a93e6-cac0-40fb-95b1-e428439ee974"
      },
      "execution_count": null,
      "outputs": [
        {
          "output_type": "execute_result",
          "data": {
            "text/plain": [
              "       0          1          2         3   4        5       6      7   \\\n",
              "word  one  reviewers  mentioned  watching  oz  episode  hooked  right   \n",
              "lem   one   reviewer    mention     watch  oz  episode  hooked  right   \n",
              "stem  one     review    mention     watch  oz   episod    hook  right   \n",
              "\n",
              "           8         9      10     11      12         13           14      15  \\\n",
              "word  exactly  happened  first  thing  struck  brutality  unflinching  scenes   \n",
              "lem   exactly    happen  first  thing  struck  brutality  unflinching   scene   \n",
              "stem  exactli    happen  first  thing  struck     brutal     unflinch   scene   \n",
              "\n",
              "            16   17    18  19  \n",
              "word  violence  set  word  go  \n",
              "lem   violence  set  word  go  \n",
              "stem   violenc  set  word  go  "
            ],
            "text/html": [
              "\n",
              "  <div id=\"df-429480c7-dde8-4b08-a28f-d618f8345ebe\">\n",
              "    <div class=\"colab-df-container\">\n",
              "      <div>\n",
              "<style scoped>\n",
              "    .dataframe tbody tr th:only-of-type {\n",
              "        vertical-align: middle;\n",
              "    }\n",
              "\n",
              "    .dataframe tbody tr th {\n",
              "        vertical-align: top;\n",
              "    }\n",
              "\n",
              "    .dataframe thead th {\n",
              "        text-align: right;\n",
              "    }\n",
              "</style>\n",
              "<table border=\"1\" class=\"dataframe\">\n",
              "  <thead>\n",
              "    <tr style=\"text-align: right;\">\n",
              "      <th></th>\n",
              "      <th>0</th>\n",
              "      <th>1</th>\n",
              "      <th>2</th>\n",
              "      <th>3</th>\n",
              "      <th>4</th>\n",
              "      <th>5</th>\n",
              "      <th>6</th>\n",
              "      <th>7</th>\n",
              "      <th>8</th>\n",
              "      <th>9</th>\n",
              "      <th>10</th>\n",
              "      <th>11</th>\n",
              "      <th>12</th>\n",
              "      <th>13</th>\n",
              "      <th>14</th>\n",
              "      <th>15</th>\n",
              "      <th>16</th>\n",
              "      <th>17</th>\n",
              "      <th>18</th>\n",
              "      <th>19</th>\n",
              "    </tr>\n",
              "  </thead>\n",
              "  <tbody>\n",
              "    <tr>\n",
              "      <th>word</th>\n",
              "      <td>one</td>\n",
              "      <td>reviewers</td>\n",
              "      <td>mentioned</td>\n",
              "      <td>watching</td>\n",
              "      <td>oz</td>\n",
              "      <td>episode</td>\n",
              "      <td>hooked</td>\n",
              "      <td>right</td>\n",
              "      <td>exactly</td>\n",
              "      <td>happened</td>\n",
              "      <td>first</td>\n",
              "      <td>thing</td>\n",
              "      <td>struck</td>\n",
              "      <td>brutality</td>\n",
              "      <td>unflinching</td>\n",
              "      <td>scenes</td>\n",
              "      <td>violence</td>\n",
              "      <td>set</td>\n",
              "      <td>word</td>\n",
              "      <td>go</td>\n",
              "    </tr>\n",
              "    <tr>\n",
              "      <th>lem</th>\n",
              "      <td>one</td>\n",
              "      <td>reviewer</td>\n",
              "      <td>mention</td>\n",
              "      <td>watch</td>\n",
              "      <td>oz</td>\n",
              "      <td>episode</td>\n",
              "      <td>hooked</td>\n",
              "      <td>right</td>\n",
              "      <td>exactly</td>\n",
              "      <td>happen</td>\n",
              "      <td>first</td>\n",
              "      <td>thing</td>\n",
              "      <td>struck</td>\n",
              "      <td>brutality</td>\n",
              "      <td>unflinching</td>\n",
              "      <td>scene</td>\n",
              "      <td>violence</td>\n",
              "      <td>set</td>\n",
              "      <td>word</td>\n",
              "      <td>go</td>\n",
              "    </tr>\n",
              "    <tr>\n",
              "      <th>stem</th>\n",
              "      <td>one</td>\n",
              "      <td>review</td>\n",
              "      <td>mention</td>\n",
              "      <td>watch</td>\n",
              "      <td>oz</td>\n",
              "      <td>episod</td>\n",
              "      <td>hook</td>\n",
              "      <td>right</td>\n",
              "      <td>exactli</td>\n",
              "      <td>happen</td>\n",
              "      <td>first</td>\n",
              "      <td>thing</td>\n",
              "      <td>struck</td>\n",
              "      <td>brutal</td>\n",
              "      <td>unflinch</td>\n",
              "      <td>scene</td>\n",
              "      <td>violenc</td>\n",
              "      <td>set</td>\n",
              "      <td>word</td>\n",
              "      <td>go</td>\n",
              "    </tr>\n",
              "  </tbody>\n",
              "</table>\n",
              "</div>\n",
              "      <button class=\"colab-df-convert\" onclick=\"convertToInteractive('df-429480c7-dde8-4b08-a28f-d618f8345ebe')\"\n",
              "              title=\"Convert this dataframe to an interactive table.\"\n",
              "              style=\"display:none;\">\n",
              "        \n",
              "  <svg xmlns=\"http://www.w3.org/2000/svg\" height=\"24px\"viewBox=\"0 0 24 24\"\n",
              "       width=\"24px\">\n",
              "    <path d=\"M0 0h24v24H0V0z\" fill=\"none\"/>\n",
              "    <path d=\"M18.56 5.44l.94 2.06.94-2.06 2.06-.94-2.06-.94-.94-2.06-.94 2.06-2.06.94zm-11 1L8.5 8.5l.94-2.06 2.06-.94-2.06-.94L8.5 2.5l-.94 2.06-2.06.94zm10 10l.94 2.06.94-2.06 2.06-.94-2.06-.94-.94-2.06-.94 2.06-2.06.94z\"/><path d=\"M17.41 7.96l-1.37-1.37c-.4-.4-.92-.59-1.43-.59-.52 0-1.04.2-1.43.59L10.3 9.45l-7.72 7.72c-.78.78-.78 2.05 0 2.83L4 21.41c.39.39.9.59 1.41.59.51 0 1.02-.2 1.41-.59l7.78-7.78 2.81-2.81c.8-.78.8-2.07 0-2.86zM5.41 20L4 18.59l7.72-7.72 1.47 1.35L5.41 20z\"/>\n",
              "  </svg>\n",
              "      </button>\n",
              "      \n",
              "  <style>\n",
              "    .colab-df-container {\n",
              "      display:flex;\n",
              "      flex-wrap:wrap;\n",
              "      gap: 12px;\n",
              "    }\n",
              "\n",
              "    .colab-df-convert {\n",
              "      background-color: #E8F0FE;\n",
              "      border: none;\n",
              "      border-radius: 50%;\n",
              "      cursor: pointer;\n",
              "      display: none;\n",
              "      fill: #1967D2;\n",
              "      height: 32px;\n",
              "      padding: 0 0 0 0;\n",
              "      width: 32px;\n",
              "    }\n",
              "\n",
              "    .colab-df-convert:hover {\n",
              "      background-color: #E2EBFA;\n",
              "      box-shadow: 0px 1px 2px rgba(60, 64, 67, 0.3), 0px 1px 3px 1px rgba(60, 64, 67, 0.15);\n",
              "      fill: #174EA6;\n",
              "    }\n",
              "\n",
              "    [theme=dark] .colab-df-convert {\n",
              "      background-color: #3B4455;\n",
              "      fill: #D2E3FC;\n",
              "    }\n",
              "\n",
              "    [theme=dark] .colab-df-convert:hover {\n",
              "      background-color: #434B5C;\n",
              "      box-shadow: 0px 1px 3px 1px rgba(0, 0, 0, 0.15);\n",
              "      filter: drop-shadow(0px 1px 2px rgba(0, 0, 0, 0.3));\n",
              "      fill: #FFFFFF;\n",
              "    }\n",
              "  </style>\n",
              "\n",
              "      <script>\n",
              "        const buttonEl =\n",
              "          document.querySelector('#df-429480c7-dde8-4b08-a28f-d618f8345ebe button.colab-df-convert');\n",
              "        buttonEl.style.display =\n",
              "          google.colab.kernel.accessAllowed ? 'block' : 'none';\n",
              "\n",
              "        async function convertToInteractive(key) {\n",
              "          const element = document.querySelector('#df-429480c7-dde8-4b08-a28f-d618f8345ebe');\n",
              "          const dataTable =\n",
              "            await google.colab.kernel.invokeFunction('convertToInteractive',\n",
              "                                                     [key], {});\n",
              "          if (!dataTable) return;\n",
              "\n",
              "          const docLinkHtml = 'Like what you see? Visit the ' +\n",
              "            '<a target=\"_blank\" href=https://colab.research.google.com/notebooks/data_table.ipynb>data table notebook</a>'\n",
              "            + ' to learn more about interactive tables.';\n",
              "          element.innerHTML = '';\n",
              "          dataTable['output_type'] = 'display_data';\n",
              "          await google.colab.output.renderOutput(dataTable, element);\n",
              "          const docLink = document.createElement('div');\n",
              "          docLink.innerHTML = docLinkHtml;\n",
              "          element.appendChild(docLink);\n",
              "        }\n",
              "      </script>\n",
              "    </div>\n",
              "  </div>\n",
              "  "
            ]
          },
          "metadata": {},
          "execution_count": 169
        }
      ]
    },
    {
      "cell_type": "markdown",
      "source": [
        "So we see that stemming removes the last few characters of words, to obtain a shorter form. A a result, we get the base words. In stemming, for some words, it may not give meaningful representation. We can see the words like 'exactli', 'violenc'. Lemmatization takes more time comparing to stemming because it finds meaningful word (when I tried to lemmatize words without caching, it took around 17 minutes while stemming completed in 2 minutes). For example, lemmatization converted the word 'reviewers' into its single form: 'reviewer', and stemming transformed it to the base 'review'."
      ],
      "metadata": {
        "id": "Jct7Ft-GPMuL"
      }
    },
    {
      "cell_type": "code",
      "source": [
        "wls.describe()"
      ],
      "metadata": {
        "colab": {
          "base_uri": "https://localhost:8080/",
          "height": 175
        },
        "id": "bvbFxELu6_c6",
        "outputId": "3d468656-bffc-4cdc-94d6-0e93fccf5ea1"
      },
      "execution_count": null,
      "outputs": [
        {
          "output_type": "execute_result",
          "data": {
            "text/plain": [
              "          word     lem    stem\n",
              "count   100576  100576  100576\n",
              "unique  100576   84033   70308\n",
              "top        one     gas   gener\n",
              "freq         1       7      28"
            ],
            "text/html": [
              "\n",
              "  <div id=\"df-8a86bffd-4f52-48c9-a1c0-400346caf84e\">\n",
              "    <div class=\"colab-df-container\">\n",
              "      <div>\n",
              "<style scoped>\n",
              "    .dataframe tbody tr th:only-of-type {\n",
              "        vertical-align: middle;\n",
              "    }\n",
              "\n",
              "    .dataframe tbody tr th {\n",
              "        vertical-align: top;\n",
              "    }\n",
              "\n",
              "    .dataframe thead th {\n",
              "        text-align: right;\n",
              "    }\n",
              "</style>\n",
              "<table border=\"1\" class=\"dataframe\">\n",
              "  <thead>\n",
              "    <tr style=\"text-align: right;\">\n",
              "      <th></th>\n",
              "      <th>word</th>\n",
              "      <th>lem</th>\n",
              "      <th>stem</th>\n",
              "    </tr>\n",
              "  </thead>\n",
              "  <tbody>\n",
              "    <tr>\n",
              "      <th>count</th>\n",
              "      <td>100576</td>\n",
              "      <td>100576</td>\n",
              "      <td>100576</td>\n",
              "    </tr>\n",
              "    <tr>\n",
              "      <th>unique</th>\n",
              "      <td>100576</td>\n",
              "      <td>84033</td>\n",
              "      <td>70308</td>\n",
              "    </tr>\n",
              "    <tr>\n",
              "      <th>top</th>\n",
              "      <td>one</td>\n",
              "      <td>gas</td>\n",
              "      <td>gener</td>\n",
              "    </tr>\n",
              "    <tr>\n",
              "      <th>freq</th>\n",
              "      <td>1</td>\n",
              "      <td>7</td>\n",
              "      <td>28</td>\n",
              "    </tr>\n",
              "  </tbody>\n",
              "</table>\n",
              "</div>\n",
              "      <button class=\"colab-df-convert\" onclick=\"convertToInteractive('df-8a86bffd-4f52-48c9-a1c0-400346caf84e')\"\n",
              "              title=\"Convert this dataframe to an interactive table.\"\n",
              "              style=\"display:none;\">\n",
              "        \n",
              "  <svg xmlns=\"http://www.w3.org/2000/svg\" height=\"24px\"viewBox=\"0 0 24 24\"\n",
              "       width=\"24px\">\n",
              "    <path d=\"M0 0h24v24H0V0z\" fill=\"none\"/>\n",
              "    <path d=\"M18.56 5.44l.94 2.06.94-2.06 2.06-.94-2.06-.94-.94-2.06-.94 2.06-2.06.94zm-11 1L8.5 8.5l.94-2.06 2.06-.94-2.06-.94L8.5 2.5l-.94 2.06-2.06.94zm10 10l.94 2.06.94-2.06 2.06-.94-2.06-.94-.94-2.06-.94 2.06-2.06.94z\"/><path d=\"M17.41 7.96l-1.37-1.37c-.4-.4-.92-.59-1.43-.59-.52 0-1.04.2-1.43.59L10.3 9.45l-7.72 7.72c-.78.78-.78 2.05 0 2.83L4 21.41c.39.39.9.59 1.41.59.51 0 1.02-.2 1.41-.59l7.78-7.78 2.81-2.81c.8-.78.8-2.07 0-2.86zM5.41 20L4 18.59l7.72-7.72 1.47 1.35L5.41 20z\"/>\n",
              "  </svg>\n",
              "      </button>\n",
              "      \n",
              "  <style>\n",
              "    .colab-df-container {\n",
              "      display:flex;\n",
              "      flex-wrap:wrap;\n",
              "      gap: 12px;\n",
              "    }\n",
              "\n",
              "    .colab-df-convert {\n",
              "      background-color: #E8F0FE;\n",
              "      border: none;\n",
              "      border-radius: 50%;\n",
              "      cursor: pointer;\n",
              "      display: none;\n",
              "      fill: #1967D2;\n",
              "      height: 32px;\n",
              "      padding: 0 0 0 0;\n",
              "      width: 32px;\n",
              "    }\n",
              "\n",
              "    .colab-df-convert:hover {\n",
              "      background-color: #E2EBFA;\n",
              "      box-shadow: 0px 1px 2px rgba(60, 64, 67, 0.3), 0px 1px 3px 1px rgba(60, 64, 67, 0.15);\n",
              "      fill: #174EA6;\n",
              "    }\n",
              "\n",
              "    [theme=dark] .colab-df-convert {\n",
              "      background-color: #3B4455;\n",
              "      fill: #D2E3FC;\n",
              "    }\n",
              "\n",
              "    [theme=dark] .colab-df-convert:hover {\n",
              "      background-color: #434B5C;\n",
              "      box-shadow: 0px 1px 3px 1px rgba(0, 0, 0, 0.15);\n",
              "      filter: drop-shadow(0px 1px 2px rgba(0, 0, 0, 0.3));\n",
              "      fill: #FFFFFF;\n",
              "    }\n",
              "  </style>\n",
              "\n",
              "      <script>\n",
              "        const buttonEl =\n",
              "          document.querySelector('#df-8a86bffd-4f52-48c9-a1c0-400346caf84e button.colab-df-convert');\n",
              "        buttonEl.style.display =\n",
              "          google.colab.kernel.accessAllowed ? 'block' : 'none';\n",
              "\n",
              "        async function convertToInteractive(key) {\n",
              "          const element = document.querySelector('#df-8a86bffd-4f52-48c9-a1c0-400346caf84e');\n",
              "          const dataTable =\n",
              "            await google.colab.kernel.invokeFunction('convertToInteractive',\n",
              "                                                     [key], {});\n",
              "          if (!dataTable) return;\n",
              "\n",
              "          const docLinkHtml = 'Like what you see? Visit the ' +\n",
              "            '<a target=\"_blank\" href=https://colab.research.google.com/notebooks/data_table.ipynb>data table notebook</a>'\n",
              "            + ' to learn more about interactive tables.';\n",
              "          element.innerHTML = '';\n",
              "          dataTable['output_type'] = 'display_data';\n",
              "          await google.colab.output.renderOutput(dataTable, element);\n",
              "          const docLink = document.createElement('div');\n",
              "          docLink.innerHTML = docLinkHtml;\n",
              "          element.appendChild(docLink);\n",
              "        }\n",
              "      </script>\n",
              "    </div>\n",
              "  </div>\n",
              "  "
            ]
          },
          "metadata": {},
          "execution_count": 170
        }
      ]
    },
    {
      "cell_type": "markdown",
      "source": [
        "We see that among 100576 unique words in the dataset there are 84033 lemmas and 70308 base words after stemming."
      ],
      "metadata": {
        "id": "z5UzmiEdUa0i"
      }
    },
    {
      "cell_type": "markdown",
      "source": [
        "#Labeling"
      ],
      "metadata": {
        "id": "N-w3SVf6_GGd"
      }
    },
    {
      "cell_type": "markdown",
      "source": [
        "Let's encode the target feature."
      ],
      "metadata": {
        "id": "RdNVNTAc3MZ2"
      }
    },
    {
      "cell_type": "code",
      "execution_count": null,
      "metadata": {
        "id": "CL_j2scNVZ-2"
      },
      "outputs": [],
      "source": [
        "lb=LabelBinarizer()\n",
        "df['sentiment']=lb.fit_transform(df['sentiment'])"
      ]
    },
    {
      "cell_type": "markdown",
      "source": [
        "#X and y datasets"
      ],
      "metadata": {
        "id": "KgAOS90s_Q0f"
      }
    },
    {
      "cell_type": "markdown",
      "source": [
        "Now we can create train and test datasets. I'll use the results of stemming for X datasets since they have fewer unique words."
      ],
      "metadata": {
        "id": "uuCOruaM3mTW"
      }
    },
    {
      "cell_type": "code",
      "source": [
        "X_train, X_test, y_train, y_test = train_test_split(df['stem'], df['sentiment'], test_size=0.2, random_state=42, stratify=df['sentiment'])"
      ],
      "metadata": {
        "id": "IxuUY7BaZvm4"
      },
      "execution_count": null,
      "outputs": []
    },
    {
      "cell_type": "markdown",
      "source": [
        "#Top words"
      ],
      "metadata": {
        "id": "giUWM89Q_Ykj"
      }
    },
    {
      "cell_type": "code",
      "source": [
        "# Plotting the most frequent words\n",
        "def plot_top_frequency(data, count, title):\n",
        "  # Calculating word frequencies\n",
        "  all_words = data.str.split(expand=True).unstack().value_counts()\n",
        "  # Top words visualization\n",
        "  fig, ax = plt.subplots(figsize=(12, 12))\n",
        "  sns.barplot(x = all_words.values[:count],\n",
        "            y = all_words.index.values[:count], ax=ax, orient='h').set(title=title)\n",
        "\n",
        "  return all_words"
      ],
      "metadata": {
        "id": "JpF4-qBg30_e"
      },
      "execution_count": null,
      "outputs": []
    },
    {
      "cell_type": "markdown",
      "source": [
        "Let's visualize top 30 words for positive reviews."
      ],
      "metadata": {
        "id": "0AVz7Fv65kCn"
      }
    },
    {
      "cell_type": "code",
      "source": [
        "pos_words = plot_top_frequency(X_train[y_train == 1], 30, 'Top 30 words | Positive reviews')"
      ],
      "metadata": {
        "colab": {
          "base_uri": "https://localhost:8080/",
          "height": 716
        },
        "id": "DYqz4Z5ZydvP",
        "outputId": "da24de78-830c-4b57-9a26-b468b8be395a"
      },
      "execution_count": null,
      "outputs": [
        {
          "output_type": "display_data",
          "data": {
            "text/plain": [
              "<Figure size 864x864 with 1 Axes>"
            ],
            "image/png": "[encoded data removed]"
          },
          "metadata": {
            "needs_background": "light"
          }
        }
      ]
    },
    {
      "cell_type": "markdown",
      "source": [
        "Now let's take a look at top 30 words for negative reviews."
      ],
      "metadata": {
        "id": "0cg6RgZB53sE"
      }
    },
    {
      "cell_type": "code",
      "source": [
        "neg_words = plot_top_frequency(X_train[y_train == 0], 30, 'Top 30 words | Negative reviews')"
      ],
      "metadata": {
        "colab": {
          "base_uri": "https://localhost:8080/",
          "height": 716
        },
        "id": "JMEH4_Ah1GEX",
        "outputId": "78bd1497-c161-4f6d-9f27-1fd2a1187ac4"
      },
      "execution_count": null,
      "outputs": [
        {
          "output_type": "display_data",
          "data": {
            "text/plain": [
              "<Figure size 864x864 with 1 Axes>"
            ],
            "image/png": "[encoded data removed]"
          },
          "metadata": {
            "needs_background": "light"
          }
        }
      ]
    },
    {
      "cell_type": "markdown",
      "source": [
        "There are a many words that are popular in both classes, e.g. 'movi', 'film', 'one', 'like'. People seem to use the word 'good' in negative reviews as often as they use the word 'bad'. Although, it seems that peoople use 'movie' more often in the negative class, I can't say all these words are important for classification.\n",
        "\n",
        "Now I'd like to form the table of word frequencies."
      ],
      "metadata": {
        "id": "qZQ8DR1PYtc5"
      }
    },
    {
      "cell_type": "code",
      "source": [
        "freq = pd.concat([neg_words, pos_words], axis=1)\n",
        "freq"
      ],
      "metadata": {
        "colab": {
          "base_uri": "https://localhost:8080/",
          "height": 423
        },
        "id": "5xqnUQC4Xsjo",
        "outputId": "40df6ccc-0a9a-4521-d92a-8b4e5664fe22"
      },
      "execution_count": null,
      "outputs": [
        {
          "output_type": "execute_result",
          "data": {
            "text/plain": [
              "                  0        1\n",
              "movi        46816.0  35827.0\n",
              "film        36087.0  40915.0\n",
              "one         21776.0  22685.0\n",
              "like        19717.0  16268.0\n",
              "would       14525.0  10615.0\n",
              "...             ...      ...\n",
              "touchabl        NaN      1.0\n",
              "fowzi           NaN      1.0\n",
              "tabatabai       NaN      1.0\n",
              "rochfort        NaN      1.0\n",
              "stormmatch      NaN      1.0\n",
              "\n",
              "[63406 rows x 2 columns]"
            ],
            "text/html": [
              "\n",
              "  <div id=\"df-f57f14db-66b5-412b-9372-5d0fe39911b8\">\n",
              "    <div class=\"colab-df-container\">\n",
              "      <div>\n",
              "<style scoped>\n",
              "    .dataframe tbody tr th:only-of-type {\n",
              "        vertical-align: middle;\n",
              "    }\n",
              "\n",
              "    .dataframe tbody tr th {\n",
              "        vertical-align: top;\n",
              "    }\n",
              "\n",
              "    .dataframe thead th {\n",
              "        text-align: right;\n",
              "    }\n",
              "</style>\n",
              "<table border=\"1\" class=\"dataframe\">\n",
              "  <thead>\n",
              "    <tr style=\"text-align: right;\">\n",
              "      <th></th>\n",
              "      <th>0</th>\n",
              "      <th>1</th>\n",
              "    </tr>\n",
              "  </thead>\n",
              "  <tbody>\n",
              "    <tr>\n",
              "      <th>movi</th>\n",
              "      <td>46816.0</td>\n",
              "      <td>35827.0</td>\n",
              "    </tr>\n",
              "    <tr>\n",
              "      <th>film</th>\n",
              "      <td>36087.0</td>\n",
              "      <td>40915.0</td>\n",
              "    </tr>\n",
              "    <tr>\n",
              "      <th>one</th>\n",
              "      <td>21776.0</td>\n",
              "      <td>22685.0</td>\n",
              "    </tr>\n",
              "    <tr>\n",
              "      <th>like</th>\n",
              "      <td>19717.0</td>\n",
              "      <td>16268.0</td>\n",
              "    </tr>\n",
              "    <tr>\n",
              "      <th>would</th>\n",
              "      <td>14525.0</td>\n",
              "      <td>10615.0</td>\n",
              "    </tr>\n",
              "    <tr>\n",
              "      <th>...</th>\n",
              "      <td>...</td>\n",
              "      <td>...</td>\n",
              "    </tr>\n",
              "    <tr>\n",
              "      <th>touchabl</th>\n",
              "      <td>NaN</td>\n",
              "      <td>1.0</td>\n",
              "    </tr>\n",
              "    <tr>\n",
              "      <th>fowzi</th>\n",
              "      <td>NaN</td>\n",
              "      <td>1.0</td>\n",
              "    </tr>\n",
              "    <tr>\n",
              "      <th>tabatabai</th>\n",
              "      <td>NaN</td>\n",
              "      <td>1.0</td>\n",
              "    </tr>\n",
              "    <tr>\n",
              "      <th>rochfort</th>\n",
              "      <td>NaN</td>\n",
              "      <td>1.0</td>\n",
              "    </tr>\n",
              "    <tr>\n",
              "      <th>stormmatch</th>\n",
              "      <td>NaN</td>\n",
              "      <td>1.0</td>\n",
              "    </tr>\n",
              "  </tbody>\n",
              "</table>\n",
              "<p>63406 rows × 2 columns</p>\n",
              "</div>\n",
              "      <button class=\"colab-df-convert\" onclick=\"convertToInteractive('df-f57f14db-66b5-412b-9372-5d0fe39911b8')\"\n",
              "              title=\"Convert this dataframe to an interactive table.\"\n",
              "              style=\"display:none;\">\n",
              "        \n",
              "  <svg xmlns=\"http://www.w3.org/2000/svg\" height=\"24px\"viewBox=\"0 0 24 24\"\n",
              "       width=\"24px\">\n",
              "    <path d=\"M0 0h24v24H0V0z\" fill=\"none\"/>\n",
              "    <path d=\"M18.56 5.44l.94 2.06.94-2.06 2.06-.94-2.06-.94-.94-2.06-.94 2.06-2.06.94zm-11 1L8.5 8.5l.94-2.06 2.06-.94-2.06-.94L8.5 2.5l-.94 2.06-2.06.94zm10 10l.94 2.06.94-2.06 2.06-.94-2.06-.94-.94-2.06-.94 2.06-2.06.94z\"/><path d=\"M17.41 7.96l-1.37-1.37c-.4-.4-.92-.59-1.43-.59-.52 0-1.04.2-1.43.59L10.3 9.45l-7.72 7.72c-.78.78-.78 2.05 0 2.83L4 21.41c.39.39.9.59 1.41.59.51 0 1.02-.2 1.41-.59l7.78-7.78 2.81-2.81c.8-.78.8-2.07 0-2.86zM5.41 20L4 18.59l7.72-7.72 1.47 1.35L5.41 20z\"/>\n",
              "  </svg>\n",
              "      </button>\n",
              "      \n",
              "  <style>\n",
              "    .colab-df-container {\n",
              "      display:flex;\n",
              "      flex-wrap:wrap;\n",
              "      gap: 12px;\n",
              "    }\n",
              "\n",
              "    .colab-df-convert {\n",
              "      background-color: #E8F0FE;\n",
              "      border: none;\n",
              "      border-radius: 50%;\n",
              "      cursor: pointer;\n",
              "      display: none;\n",
              "      fill: #1967D2;\n",
              "      height: 32px;\n",
              "      padding: 0 0 0 0;\n",
              "      width: 32px;\n",
              "    }\n",
              "\n",
              "    .colab-df-convert:hover {\n",
              "      background-color: #E2EBFA;\n",
              "      box-shadow: 0px 1px 2px rgba(60, 64, 67, 0.3), 0px 1px 3px 1px rgba(60, 64, 67, 0.15);\n",
              "      fill: #174EA6;\n",
              "    }\n",
              "\n",
              "    [theme=dark] .colab-df-convert {\n",
              "      background-color: #3B4455;\n",
              "      fill: #D2E3FC;\n",
              "    }\n",
              "\n",
              "    [theme=dark] .colab-df-convert:hover {\n",
              "      background-color: #434B5C;\n",
              "      box-shadow: 0px 1px 3px 1px rgba(0, 0, 0, 0.15);\n",
              "      filter: drop-shadow(0px 1px 2px rgba(0, 0, 0, 0.3));\n",
              "      fill: #FFFFFF;\n",
              "    }\n",
              "  </style>\n",
              "\n",
              "      <script>\n",
              "        const buttonEl =\n",
              "          document.querySelector('#df-f57f14db-66b5-412b-9372-5d0fe39911b8 button.colab-df-convert');\n",
              "        buttonEl.style.display =\n",
              "          google.colab.kernel.accessAllowed ? 'block' : 'none';\n",
              "\n",
              "        async function convertToInteractive(key) {\n",
              "          const element = document.querySelector('#df-f57f14db-66b5-412b-9372-5d0fe39911b8');\n",
              "          const dataTable =\n",
              "            await google.colab.kernel.invokeFunction('convertToInteractive',\n",
              "                                                     [key], {});\n",
              "          if (!dataTable) return;\n",
              "\n",
              "          const docLinkHtml = 'Like what you see? Visit the ' +\n",
              "            '<a target=\"_blank\" href=https://colab.research.google.com/notebooks/data_table.ipynb>data table notebook</a>'\n",
              "            + ' to learn more about interactive tables.';\n",
              "          element.innerHTML = '';\n",
              "          dataTable['output_type'] = 'display_data';\n",
              "          await google.colab.output.renderOutput(dataTable, element);\n",
              "          const docLink = document.createElement('div');\n",
              "          docLink.innerHTML = docLinkHtml;\n",
              "          element.appendChild(docLink);\n",
              "        }\n",
              "      </script>\n",
              "    </div>\n",
              "  </div>\n",
              "  "
            ]
          },
          "metadata": {},
          "execution_count": 19
        }
      ]
    },
    {
      "cell_type": "markdown",
      "source": [
        "And vizualize the top 30 words."
      ],
      "metadata": {
        "id": "klGSw1XRci7H"
      }
    },
    {
      "cell_type": "code",
      "source": [
        "top60_by_neg = freq.iloc[:60]\n",
        "top30 = top60_by_neg.loc[(top60_by_neg[0] + top60_by_neg[1]).sort_values().index][30:]\n",
        "top30.plot.barh(figsize=(15, 10), stacked=True)\n",
        "plt.title('Top 30 | Both classes')\n",
        "plt.show()"
      ],
      "metadata": {
        "colab": {
          "base_uri": "https://localhost:8080/",
          "height": 607
        },
        "id": "hd2RcNiAXydc",
        "outputId": "276744f6-1361-4a40-c33f-7553abc5911c"
      },
      "execution_count": null,
      "outputs": [
        {
          "output_type": "display_data",
          "data": {
            "text/plain": [
              "<Figure size 1080x720 with 1 Axes>"
            ],
            "image/png": "[encoded data removed]"
          },
          "metadata": {
            "needs_background": "light"
          }
        }
      ]
    },
    {
      "cell_type": "markdown",
      "source": [
        "Now we can see that the word 'bad' is more common among negative reviews and words 'love' and 'well' are more common among positive ones."
      ],
      "metadata": {
        "id": "OL27qqDMiQr9"
      }
    },
    {
      "cell_type": "markdown",
      "source": [
        "#Words importance"
      ],
      "metadata": {
        "id": "soxTeuhuXtiV"
      }
    },
    {
      "cell_type": "markdown",
      "source": [
        "In my opinion, the most important words are the words that are quite popular and have the biggest difference between appearing in negative and positive classes. That's why first I'll take top 1000 most frequent words and then sort them by percentage ratio of positive class to negative."
      ],
      "metadata": {
        "id": "nFCFGC0IkruL"
      }
    },
    {
      "cell_type": "code",
      "source": [
        "top1000 = freq.iloc[:1000]\n",
        "top1000[\"cmp\"] = (top1000[1] / top1000[0] * 100)\n",
        "top1000.sort_values(by=\"cmp\", inplace=True, ascending=False)\n",
        "top1000.head(10)"
      ],
      "metadata": {
        "colab": {
          "base_uri": "https://localhost:8080/",
          "height": 363
        },
        "id": "5pEvetC0X0_S",
        "outputId": "78e1db0b-744e-4db1-8d67-bb5a5818f1dd"
      },
      "execution_count": null,
      "outputs": [
        {
          "output_type": "execute_result",
          "data": {
            "text/plain": [
              "                0       1         cmp\n",
              "excel       643.0  2904.0  451.632970\n",
              "perfect     592.0  2161.0  365.033784\n",
              "brilliant   431.0  1495.0  346.867749\n",
              "favorit     511.0  1671.0  327.005871\n",
              "amaz        599.0  1847.0  308.347245\n",
              "highli      474.0  1373.0  289.662447\n",
              "beauti     1332.0  3847.0  288.813814\n",
              "today       543.0  1510.0  278.084715\n",
              "touch       527.0  1458.0  276.660342\n",
              "strong      488.0  1218.0  249.590164"
            ],
            "text/html": [
              "\n",
              "  <div id=\"df-ec4a6e2b-8960-41a9-9548-39cffbc8d44f\">\n",
              "    <div class=\"colab-df-container\">\n",
              "      <div>\n",
              "<style scoped>\n",
              "    .dataframe tbody tr th:only-of-type {\n",
              "        vertical-align: middle;\n",
              "    }\n",
              "\n",
              "    .dataframe tbody tr th {\n",
              "        vertical-align: top;\n",
              "    }\n",
              "\n",
              "    .dataframe thead th {\n",
              "        text-align: right;\n",
              "    }\n",
              "</style>\n",
              "<table border=\"1\" class=\"dataframe\">\n",
              "  <thead>\n",
              "    <tr style=\"text-align: right;\">\n",
              "      <th></th>\n",
              "      <th>0</th>\n",
              "      <th>1</th>\n",
              "      <th>cmp</th>\n",
              "    </tr>\n",
              "  </thead>\n",
              "  <tbody>\n",
              "    <tr>\n",
              "      <th>excel</th>\n",
              "      <td>643.0</td>\n",
              "      <td>2904.0</td>\n",
              "      <td>451.632970</td>\n",
              "    </tr>\n",
              "    <tr>\n",
              "      <th>perfect</th>\n",
              "      <td>592.0</td>\n",
              "      <td>2161.0</td>\n",
              "      <td>365.033784</td>\n",
              "    </tr>\n",
              "    <tr>\n",
              "      <th>brilliant</th>\n",
              "      <td>431.0</td>\n",
              "      <td>1495.0</td>\n",
              "      <td>346.867749</td>\n",
              "    </tr>\n",
              "    <tr>\n",
              "      <th>favorit</th>\n",
              "      <td>511.0</td>\n",
              "      <td>1671.0</td>\n",
              "      <td>327.005871</td>\n",
              "    </tr>\n",
              "    <tr>\n",
              "      <th>amaz</th>\n",
              "      <td>599.0</td>\n",
              "      <td>1847.0</td>\n",
              "      <td>308.347245</td>\n",
              "    </tr>\n",
              "    <tr>\n",
              "      <th>highli</th>\n",
              "      <td>474.0</td>\n",
              "      <td>1373.0</td>\n",
              "      <td>289.662447</td>\n",
              "    </tr>\n",
              "    <tr>\n",
              "      <th>beauti</th>\n",
              "      <td>1332.0</td>\n",
              "      <td>3847.0</td>\n",
              "      <td>288.813814</td>\n",
              "    </tr>\n",
              "    <tr>\n",
              "      <th>today</th>\n",
              "      <td>543.0</td>\n",
              "      <td>1510.0</td>\n",
              "      <td>278.084715</td>\n",
              "    </tr>\n",
              "    <tr>\n",
              "      <th>touch</th>\n",
              "      <td>527.0</td>\n",
              "      <td>1458.0</td>\n",
              "      <td>276.660342</td>\n",
              "    </tr>\n",
              "    <tr>\n",
              "      <th>strong</th>\n",
              "      <td>488.0</td>\n",
              "      <td>1218.0</td>\n",
              "      <td>249.590164</td>\n",
              "    </tr>\n",
              "  </tbody>\n",
              "</table>\n",
              "</div>\n",
              "      <button class=\"colab-df-convert\" onclick=\"convertToInteractive('df-ec4a6e2b-8960-41a9-9548-39cffbc8d44f')\"\n",
              "              title=\"Convert this dataframe to an interactive table.\"\n",
              "              style=\"display:none;\">\n",
              "        \n",
              "  <svg xmlns=\"http://www.w3.org/2000/svg\" height=\"24px\"viewBox=\"0 0 24 24\"\n",
              "       width=\"24px\">\n",
              "    <path d=\"M0 0h24v24H0V0z\" fill=\"none\"/>\n",
              "    <path d=\"M18.56 5.44l.94 2.06.94-2.06 2.06-.94-2.06-.94-.94-2.06-.94 2.06-2.06.94zm-11 1L8.5 8.5l.94-2.06 2.06-.94-2.06-.94L8.5 2.5l-.94 2.06-2.06.94zm10 10l.94 2.06.94-2.06 2.06-.94-2.06-.94-.94-2.06-.94 2.06-2.06.94z\"/><path d=\"M17.41 7.96l-1.37-1.37c-.4-.4-.92-.59-1.43-.59-.52 0-1.04.2-1.43.59L10.3 9.45l-7.72 7.72c-.78.78-.78 2.05 0 2.83L4 21.41c.39.39.9.59 1.41.59.51 0 1.02-.2 1.41-.59l7.78-7.78 2.81-2.81c.8-.78.8-2.07 0-2.86zM5.41 20L4 18.59l7.72-7.72 1.47 1.35L5.41 20z\"/>\n",
              "  </svg>\n",
              "      </button>\n",
              "      \n",
              "  <style>\n",
              "    .colab-df-container {\n",
              "      display:flex;\n",
              "      flex-wrap:wrap;\n",
              "      gap: 12px;\n",
              "    }\n",
              "\n",
              "    .colab-df-convert {\n",
              "      background-color: #E8F0FE;\n",
              "      border: none;\n",
              "      border-radius: 50%;\n",
              "      cursor: pointer;\n",
              "      display: none;\n",
              "      fill: #1967D2;\n",
              "      height: 32px;\n",
              "      padding: 0 0 0 0;\n",
              "      width: 32px;\n",
              "    }\n",
              "\n",
              "    .colab-df-convert:hover {\n",
              "      background-color: #E2EBFA;\n",
              "      box-shadow: 0px 1px 2px rgba(60, 64, 67, 0.3), 0px 1px 3px 1px rgba(60, 64, 67, 0.15);\n",
              "      fill: #174EA6;\n",
              "    }\n",
              "\n",
              "    [theme=dark] .colab-df-convert {\n",
              "      background-color: #3B4455;\n",
              "      fill: #D2E3FC;\n",
              "    }\n",
              "\n",
              "    [theme=dark] .colab-df-convert:hover {\n",
              "      background-color: #434B5C;\n",
              "      box-shadow: 0px 1px 3px 1px rgba(0, 0, 0, 0.15);\n",
              "      filter: drop-shadow(0px 1px 2px rgba(0, 0, 0, 0.3));\n",
              "      fill: #FFFFFF;\n",
              "    }\n",
              "  </style>\n",
              "\n",
              "      <script>\n",
              "        const buttonEl =\n",
              "          document.querySelector('#df-ec4a6e2b-8960-41a9-9548-39cffbc8d44f button.colab-df-convert');\n",
              "        buttonEl.style.display =\n",
              "          google.colab.kernel.accessAllowed ? 'block' : 'none';\n",
              "\n",
              "        async function convertToInteractive(key) {\n",
              "          const element = document.querySelector('#df-ec4a6e2b-8960-41a9-9548-39cffbc8d44f');\n",
              "          const dataTable =\n",
              "            await google.colab.kernel.invokeFunction('convertToInteractive',\n",
              "                                                     [key], {});\n",
              "          if (!dataTable) return;\n",
              "\n",
              "          const docLinkHtml = 'Like what you see? Visit the ' +\n",
              "            '<a target=\"_blank\" href=https://colab.research.google.com/notebooks/data_table.ipynb>data table notebook</a>'\n",
              "            + ' to learn more about interactive tables.';\n",
              "          element.innerHTML = '';\n",
              "          dataTable['output_type'] = 'display_data';\n",
              "          await google.colab.output.renderOutput(dataTable, element);\n",
              "          const docLink = document.createElement('div');\n",
              "          docLink.innerHTML = docLinkHtml;\n",
              "          element.appendChild(docLink);\n",
              "        }\n",
              "      </script>\n",
              "    </div>\n",
              "  </div>\n",
              "  "
            ]
          },
          "metadata": {},
          "execution_count": 21
        }
      ]
    },
    {
      "cell_type": "markdown",
      "source": [
        "Now we see that the most important words for a positive class are: 'excel', 'perfect', 'brilliant', 'favorit', 'amaz', etc.\n",
        "\n",
        "Let's take a look at the most important words for a negative class."
      ],
      "metadata": {
        "id": "-HmqZlEetE9Q"
      }
    },
    {
      "cell_type": "code",
      "source": [
        "top1000.sort_values(by=\"cmp\", ascending=True).head(10)"
      ],
      "metadata": {
        "colab": {
          "base_uri": "https://localhost:8080/",
          "height": 363
        },
        "id": "OScfI-BwcqRA",
        "outputId": "b5d2aadf-c60d-4d46-f880-ebffba512579"
      },
      "execution_count": null,
      "outputs": [
        {
          "output_type": "execute_result",
          "data": {
            "text/plain": [
              "                0      1        cmp\n",
              "wast       3217.0  282.0   8.765931\n",
              "worst      3917.0  375.0   9.573653\n",
              "poorli     1016.0  102.0  10.039370\n",
              "aw         2638.0  279.0  10.576194\n",
              "laughabl    722.0   77.0  10.664820\n",
              "pointless   698.0   91.0  13.037249\n",
              "lame        985.0  137.0  13.908629\n",
              "pathet      734.0  108.0  14.713896\n",
              "garbag      656.0   98.0  14.939024\n",
              "horribl    2031.0  342.0  16.838996"
            ],
            "text/html": [
              "\n",
              "  <div id=\"df-119c8ad6-ff3b-4f9f-b4e7-98353583a5de\">\n",
              "    <div class=\"colab-df-container\">\n",
              "      <div>\n",
              "<style scoped>\n",
              "    .dataframe tbody tr th:only-of-type {\n",
              "        vertical-align: middle;\n",
              "    }\n",
              "\n",
              "    .dataframe tbody tr th {\n",
              "        vertical-align: top;\n",
              "    }\n",
              "\n",
              "    .dataframe thead th {\n",
              "        text-align: right;\n",
              "    }\n",
              "</style>\n",
              "<table border=\"1\" class=\"dataframe\">\n",
              "  <thead>\n",
              "    <tr style=\"text-align: right;\">\n",
              "      <th></th>\n",
              "      <th>0</th>\n",
              "      <th>1</th>\n",
              "      <th>cmp</th>\n",
              "    </tr>\n",
              "  </thead>\n",
              "  <tbody>\n",
              "    <tr>\n",
              "      <th>wast</th>\n",
              "      <td>3217.0</td>\n",
              "      <td>282.0</td>\n",
              "      <td>8.765931</td>\n",
              "    </tr>\n",
              "    <tr>\n",
              "      <th>worst</th>\n",
              "      <td>3917.0</td>\n",
              "      <td>375.0</td>\n",
              "      <td>9.573653</td>\n",
              "    </tr>\n",
              "    <tr>\n",
              "      <th>poorli</th>\n",
              "      <td>1016.0</td>\n",
              "      <td>102.0</td>\n",
              "      <td>10.039370</td>\n",
              "    </tr>\n",
              "    <tr>\n",
              "      <th>aw</th>\n",
              "      <td>2638.0</td>\n",
              "      <td>279.0</td>\n",
              "      <td>10.576194</td>\n",
              "    </tr>\n",
              "    <tr>\n",
              "      <th>laughabl</th>\n",
              "      <td>722.0</td>\n",
              "      <td>77.0</td>\n",
              "      <td>10.664820</td>\n",
              "    </tr>\n",
              "    <tr>\n",
              "      <th>pointless</th>\n",
              "      <td>698.0</td>\n",
              "      <td>91.0</td>\n",
              "      <td>13.037249</td>\n",
              "    </tr>\n",
              "    <tr>\n",
              "      <th>lame</th>\n",
              "      <td>985.0</td>\n",
              "      <td>137.0</td>\n",
              "      <td>13.908629</td>\n",
              "    </tr>\n",
              "    <tr>\n",
              "      <th>pathet</th>\n",
              "      <td>734.0</td>\n",
              "      <td>108.0</td>\n",
              "      <td>14.713896</td>\n",
              "    </tr>\n",
              "    <tr>\n",
              "      <th>garbag</th>\n",
              "      <td>656.0</td>\n",
              "      <td>98.0</td>\n",
              "      <td>14.939024</td>\n",
              "    </tr>\n",
              "    <tr>\n",
              "      <th>horribl</th>\n",
              "      <td>2031.0</td>\n",
              "      <td>342.0</td>\n",
              "      <td>16.838996</td>\n",
              "    </tr>\n",
              "  </tbody>\n",
              "</table>\n",
              "</div>\n",
              "      <button class=\"colab-df-convert\" onclick=\"convertToInteractive('df-119c8ad6-ff3b-4f9f-b4e7-98353583a5de')\"\n",
              "              title=\"Convert this dataframe to an interactive table.\"\n",
              "              style=\"display:none;\">\n",
              "        \n",
              "  <svg xmlns=\"http://www.w3.org/2000/svg\" height=\"24px\"viewBox=\"0 0 24 24\"\n",
              "       width=\"24px\">\n",
              "    <path d=\"M0 0h24v24H0V0z\" fill=\"none\"/>\n",
              "    <path d=\"M18.56 5.44l.94 2.06.94-2.06 2.06-.94-2.06-.94-.94-2.06-.94 2.06-2.06.94zm-11 1L8.5 8.5l.94-2.06 2.06-.94-2.06-.94L8.5 2.5l-.94 2.06-2.06.94zm10 10l.94 2.06.94-2.06 2.06-.94-2.06-.94-.94-2.06-.94 2.06-2.06.94z\"/><path d=\"M17.41 7.96l-1.37-1.37c-.4-.4-.92-.59-1.43-.59-.52 0-1.04.2-1.43.59L10.3 9.45l-7.72 7.72c-.78.78-.78 2.05 0 2.83L4 21.41c.39.39.9.59 1.41.59.51 0 1.02-.2 1.41-.59l7.78-7.78 2.81-2.81c.8-.78.8-2.07 0-2.86zM5.41 20L4 18.59l7.72-7.72 1.47 1.35L5.41 20z\"/>\n",
              "  </svg>\n",
              "      </button>\n",
              "      \n",
              "  <style>\n",
              "    .colab-df-container {\n",
              "      display:flex;\n",
              "      flex-wrap:wrap;\n",
              "      gap: 12px;\n",
              "    }\n",
              "\n",
              "    .colab-df-convert {\n",
              "      background-color: #E8F0FE;\n",
              "      border: none;\n",
              "      border-radius: 50%;\n",
              "      cursor: pointer;\n",
              "      display: none;\n",
              "      fill: #1967D2;\n",
              "      height: 32px;\n",
              "      padding: 0 0 0 0;\n",
              "      width: 32px;\n",
              "    }\n",
              "\n",
              "    .colab-df-convert:hover {\n",
              "      background-color: #E2EBFA;\n",
              "      box-shadow: 0px 1px 2px rgba(60, 64, 67, 0.3), 0px 1px 3px 1px rgba(60, 64, 67, 0.15);\n",
              "      fill: #174EA6;\n",
              "    }\n",
              "\n",
              "    [theme=dark] .colab-df-convert {\n",
              "      background-color: #3B4455;\n",
              "      fill: #D2E3FC;\n",
              "    }\n",
              "\n",
              "    [theme=dark] .colab-df-convert:hover {\n",
              "      background-color: #434B5C;\n",
              "      box-shadow: 0px 1px 3px 1px rgba(0, 0, 0, 0.15);\n",
              "      filter: drop-shadow(0px 1px 2px rgba(0, 0, 0, 0.3));\n",
              "      fill: #FFFFFF;\n",
              "    }\n",
              "  </style>\n",
              "\n",
              "      <script>\n",
              "        const buttonEl =\n",
              "          document.querySelector('#df-119c8ad6-ff3b-4f9f-b4e7-98353583a5de button.colab-df-convert');\n",
              "        buttonEl.style.display =\n",
              "          google.colab.kernel.accessAllowed ? 'block' : 'none';\n",
              "\n",
              "        async function convertToInteractive(key) {\n",
              "          const element = document.querySelector('#df-119c8ad6-ff3b-4f9f-b4e7-98353583a5de');\n",
              "          const dataTable =\n",
              "            await google.colab.kernel.invokeFunction('convertToInteractive',\n",
              "                                                     [key], {});\n",
              "          if (!dataTable) return;\n",
              "\n",
              "          const docLinkHtml = 'Like what you see? Visit the ' +\n",
              "            '<a target=\"_blank\" href=https://colab.research.google.com/notebooks/data_table.ipynb>data table notebook</a>'\n",
              "            + ' to learn more about interactive tables.';\n",
              "          element.innerHTML = '';\n",
              "          dataTable['output_type'] = 'display_data';\n",
              "          await google.colab.output.renderOutput(dataTable, element);\n",
              "          const docLink = document.createElement('div');\n",
              "          docLink.innerHTML = docLinkHtml;\n",
              "          element.appendChild(docLink);\n",
              "        }\n",
              "      </script>\n",
              "    </div>\n",
              "  </div>\n",
              "  "
            ]
          },
          "metadata": {},
          "execution_count": 22
        }
      ]
    },
    {
      "cell_type": "markdown",
      "source": [
        "Well, that's more like it.\n",
        "\n",
        "I'd like to exclude from X datasets words that have a close number of occurrences in both classes and form \"reduced\" datasets."
      ],
      "metadata": {
        "id": "EwOc-GdMuHXc"
      }
    },
    {
      "cell_type": "code",
      "source": [
        "top = freq\n",
        "top[\"cmp\"] = (top[1] / top[0] * 100)\n",
        "words_to_exclude = top[(top['cmp'] > 85) & (top['cmp'] < 115)]\n",
        "words_to_exclude"
      ],
      "metadata": {
        "colab": {
          "base_uri": "https://localhost:8080/",
          "height": 423
        },
        "id": "HKctFG2qzGA1",
        "outputId": "f2bf6388-de4c-436d-81d9-e753d00a008f"
      },
      "execution_count": null,
      "outputs": [
        {
          "output_type": "execute_result",
          "data": {
            "text/plain": [
              "                  0        1         cmp\n",
              "film        36087.0  40915.0  113.378779\n",
              "one         21776.0  22685.0  104.174320\n",
              "make        12919.0  11002.0   85.161390\n",
              "time        12271.0  13324.0  108.581208\n",
              "watch       12015.0  10318.0   85.875988\n",
              "...             ...      ...         ...\n",
              "jape            1.0      1.0  100.000000\n",
              "calder          1.0      1.0  100.000000\n",
              "characatur      1.0      1.0  100.000000\n",
              "piazza          1.0      1.0  100.000000\n",
              "bureacraci      1.0      1.0  100.000000\n",
              "\n",
              "[5801 rows x 3 columns]"
            ],
            "text/html": [
              "\n",
              "  <div id=\"df-4fa3595f-4e33-4da9-ae1e-42c504aecb07\">\n",
              "    <div class=\"colab-df-container\">\n",
              "      <div>\n",
              "<style scoped>\n",
              "    .dataframe tbody tr th:only-of-type {\n",
              "        vertical-align: middle;\n",
              "    }\n",
              "\n",
              "    .dataframe tbody tr th {\n",
              "        vertical-align: top;\n",
              "    }\n",
              "\n",
              "    .dataframe thead th {\n",
              "        text-align: right;\n",
              "    }\n",
              "</style>\n",
              "<table border=\"1\" class=\"dataframe\">\n",
              "  <thead>\n",
              "    <tr style=\"text-align: right;\">\n",
              "      <th></th>\n",
              "      <th>0</th>\n",
              "      <th>1</th>\n",
              "      <th>cmp</th>\n",
              "    </tr>\n",
              "  </thead>\n",
              "  <tbody>\n",
              "    <tr>\n",
              "      <th>film</th>\n",
              "      <td>36087.0</td>\n",
              "      <td>40915.0</td>\n",
              "      <td>113.378779</td>\n",
              "    </tr>\n",
              "    <tr>\n",
              "      <th>one</th>\n",
              "      <td>21776.0</td>\n",
              "      <td>22685.0</td>\n",
              "      <td>104.174320</td>\n",
              "    </tr>\n",
              "    <tr>\n",
              "      <th>make</th>\n",
              "      <td>12919.0</td>\n",
              "      <td>11002.0</td>\n",
              "      <td>85.161390</td>\n",
              "    </tr>\n",
              "    <tr>\n",
              "      <th>time</th>\n",
              "      <td>12271.0</td>\n",
              "      <td>13324.0</td>\n",
              "      <td>108.581208</td>\n",
              "    </tr>\n",
              "    <tr>\n",
              "      <th>watch</th>\n",
              "      <td>12015.0</td>\n",
              "      <td>10318.0</td>\n",
              "      <td>85.875988</td>\n",
              "    </tr>\n",
              "    <tr>\n",
              "      <th>...</th>\n",
              "      <td>...</td>\n",
              "      <td>...</td>\n",
              "      <td>...</td>\n",
              "    </tr>\n",
              "    <tr>\n",
              "      <th>jape</th>\n",
              "      <td>1.0</td>\n",
              "      <td>1.0</td>\n",
              "      <td>100.000000</td>\n",
              "    </tr>\n",
              "    <tr>\n",
              "      <th>calder</th>\n",
              "      <td>1.0</td>\n",
              "      <td>1.0</td>\n",
              "      <td>100.000000</td>\n",
              "    </tr>\n",
              "    <tr>\n",
              "      <th>characatur</th>\n",
              "      <td>1.0</td>\n",
              "      <td>1.0</td>\n",
              "      <td>100.000000</td>\n",
              "    </tr>\n",
              "    <tr>\n",
              "      <th>piazza</th>\n",
              "      <td>1.0</td>\n",
              "      <td>1.0</td>\n",
              "      <td>100.000000</td>\n",
              "    </tr>\n",
              "    <tr>\n",
              "      <th>bureacraci</th>\n",
              "      <td>1.0</td>\n",
              "      <td>1.0</td>\n",
              "      <td>100.000000</td>\n",
              "    </tr>\n",
              "  </tbody>\n",
              "</table>\n",
              "<p>5801 rows × 3 columns</p>\n",
              "</div>\n",
              "      <button class=\"colab-df-convert\" onclick=\"convertToInteractive('df-4fa3595f-4e33-4da9-ae1e-42c504aecb07')\"\n",
              "              title=\"Convert this dataframe to an interactive table.\"\n",
              "              style=\"display:none;\">\n",
              "        \n",
              "  <svg xmlns=\"http://www.w3.org/2000/svg\" height=\"24px\"viewBox=\"0 0 24 24\"\n",
              "       width=\"24px\">\n",
              "    <path d=\"M0 0h24v24H0V0z\" fill=\"none\"/>\n",
              "    <path d=\"M18.56 5.44l.94 2.06.94-2.06 2.06-.94-2.06-.94-.94-2.06-.94 2.06-2.06.94zm-11 1L8.5 8.5l.94-2.06 2.06-.94-2.06-.94L8.5 2.5l-.94 2.06-2.06.94zm10 10l.94 2.06.94-2.06 2.06-.94-2.06-.94-.94-2.06-.94 2.06-2.06.94z\"/><path d=\"M17.41 7.96l-1.37-1.37c-.4-.4-.92-.59-1.43-.59-.52 0-1.04.2-1.43.59L10.3 9.45l-7.72 7.72c-.78.78-.78 2.05 0 2.83L4 21.41c.39.39.9.59 1.41.59.51 0 1.02-.2 1.41-.59l7.78-7.78 2.81-2.81c.8-.78.8-2.07 0-2.86zM5.41 20L4 18.59l7.72-7.72 1.47 1.35L5.41 20z\"/>\n",
              "  </svg>\n",
              "      </button>\n",
              "      \n",
              "  <style>\n",
              "    .colab-df-container {\n",
              "      display:flex;\n",
              "      flex-wrap:wrap;\n",
              "      gap: 12px;\n",
              "    }\n",
              "\n",
              "    .colab-df-convert {\n",
              "      background-color: #E8F0FE;\n",
              "      border: none;\n",
              "      border-radius: 50%;\n",
              "      cursor: pointer;\n",
              "      display: none;\n",
              "      fill: #1967D2;\n",
              "      height: 32px;\n",
              "      padding: 0 0 0 0;\n",
              "      width: 32px;\n",
              "    }\n",
              "\n",
              "    .colab-df-convert:hover {\n",
              "      background-color: #E2EBFA;\n",
              "      box-shadow: 0px 1px 2px rgba(60, 64, 67, 0.3), 0px 1px 3px 1px rgba(60, 64, 67, 0.15);\n",
              "      fill: #174EA6;\n",
              "    }\n",
              "\n",
              "    [theme=dark] .colab-df-convert {\n",
              "      background-color: #3B4455;\n",
              "      fill: #D2E3FC;\n",
              "    }\n",
              "\n",
              "    [theme=dark] .colab-df-convert:hover {\n",
              "      background-color: #434B5C;\n",
              "      box-shadow: 0px 1px 3px 1px rgba(0, 0, 0, 0.15);\n",
              "      filter: drop-shadow(0px 1px 2px rgba(0, 0, 0, 0.3));\n",
              "      fill: #FFFFFF;\n",
              "    }\n",
              "  </style>\n",
              "\n",
              "      <script>\n",
              "        const buttonEl =\n",
              "          document.querySelector('#df-4fa3595f-4e33-4da9-ae1e-42c504aecb07 button.colab-df-convert');\n",
              "        buttonEl.style.display =\n",
              "          google.colab.kernel.accessAllowed ? 'block' : 'none';\n",
              "\n",
              "        async function convertToInteractive(key) {\n",
              "          const element = document.querySelector('#df-4fa3595f-4e33-4da9-ae1e-42c504aecb07');\n",
              "          const dataTable =\n",
              "            await google.colab.kernel.invokeFunction('convertToInteractive',\n",
              "                                                     [key], {});\n",
              "          if (!dataTable) return;\n",
              "\n",
              "          const docLinkHtml = 'Like what you see? Visit the ' +\n",
              "            '<a target=\"_blank\" href=https://colab.research.google.com/notebooks/data_table.ipynb>data table notebook</a>'\n",
              "            + ' to learn more about interactive tables.';\n",
              "          element.innerHTML = '';\n",
              "          dataTable['output_type'] = 'display_data';\n",
              "          await google.colab.output.renderOutput(dataTable, element);\n",
              "          const docLink = document.createElement('div');\n",
              "          docLink.innerHTML = docLinkHtml;\n",
              "          element.appendChild(docLink);\n",
              "        }\n",
              "      </script>\n",
              "    </div>\n",
              "  </div>\n",
              "  "
            ]
          },
          "metadata": {},
          "execution_count": 23
        }
      ]
    },
    {
      "cell_type": "code",
      "source": [
        "words_to_exclude_set=set(words_to_exclude.index)\n",
        "\n",
        "#Applying the function of removing stopwords\n",
        "X_train_reduced=X_train.apply(remove_stopwords, stop=words_to_exclude_set)\n",
        "X_test_reduced=X_test.apply(remove_stopwords, stop=words_to_exclude_set)"
      ],
      "metadata": {
        "id": "X-MMtlCA1zR9"
      },
      "execution_count": null,
      "outputs": []
    },
    {
      "cell_type": "markdown",
      "source": [
        "#Models"
      ],
      "metadata": {
        "id": "2sPPGzVrJyBv"
      }
    },
    {
      "cell_type": "markdown",
      "source": [
        "Now we can move on to the models. I'll use `CountVectorizer` to convert a text data to a matrix of token counts. Then I'll use `TfidfTransformer` to transform a count matrix to a tf-idf representation. The goal is to reduce the impact of tokens that are very common in a corpus and therefore less informative than features that occur in a small part of the corpus.\n",
        "\n",
        "For each model, I'll perform `GridSearchCV` to find the best parameters. As a cross-validation splitting strategy, I'll use `StratifiedKFold` with 5 folds to ensure that the cross-validation result is a close approximation of generalization error. As a scorer, I'll use `roc_auc_score` since the dataset is balanced. To visualize the tradeoff between true positive rate and false positive rate, `RocCurveDisplay` will be used."
      ],
      "metadata": {
        "id": "TtVQ8FLOFhiT"
      }
    },
    {
      "cell_type": "code",
      "source": [
        "def build_model(model, gs_params, X_train, y_train, X_test, y_test):\n",
        "  pipe = Pipeline([\n",
        "    ('vector', CountVectorizer()),\n",
        "    ('tfidf', TfidfTransformer()),\n",
        "    ('model', model())\n",
        "  ])\n",
        "\n",
        "  # Grid Search\n",
        "  grid = GridSearchCV(pipe, param_grid=gs_params, scoring=make_scorer(roc_auc_score), cv=5, refit=True)\n",
        "  grid.fit(X_train, y_train)\n",
        "\n",
        "  print(\"Best score: \", grid.best_score_)\n",
        "  print(\"Best parameters\", grid.best_params_)\n",
        "\n",
        "  # ROC-curve plotting\n",
        "  rfc_disp = RocCurveDisplay.from_estimator(grid.best_estimator_, X_test, y_test)\n",
        "  plt.show()\n",
        "\n",
        "  return grid.best_estimator_"
      ],
      "metadata": {
        "id": "XUaj7SvJwZYM"
      },
      "execution_count": null,
      "outputs": []
    },
    {
      "cell_type": "markdown",
      "source": [
        "##NB"
      ],
      "metadata": {
        "id": "7FBWYoTsvCmQ"
      }
    },
    {
      "cell_type": "markdown",
      "source": [
        "The first model is `MultinomialNB`."
      ],
      "metadata": {
        "id": "dCHAlCC6QHhc"
      }
    },
    {
      "cell_type": "code",
      "source": [
        "%%time\n",
        "\n",
        "parameters_nb = {\n",
        "    'model__alpha': [1, 0.7, 0.4, 0.2, 0.1, 0.09, 0.08, 0.07, 0.06, 0.03, 0.01]\n",
        "}\n",
        "\n",
        "build_model(MultinomialNB, parameters_nb, X_train, y_train, X_test, y_test)"
      ],
      "metadata": {
        "colab": {
          "base_uri": "https://localhost:8080/",
          "height": 383
        },
        "id": "prkIw5RE_hQI",
        "outputId": "233d8443-ff58-4e5e-fc53-c6152d43b1c9"
      },
      "execution_count": null,
      "outputs": [
        {
          "output_type": "stream",
          "name": "stdout",
          "text": [
            "Best score:  0.858725\n",
            "Best parameters {'model__alpha': 0.7}\n"
          ]
        },
        {
          "output_type": "display_data",
          "data": {
            "text/plain": [
              "<Figure size 432x288 with 1 Axes>"
            ],
            "image/png": "[encoded data removed]"
          },
          "metadata": {
            "needs_background": "light"
          }
        },
        {
          "output_type": "stream",
          "name": "stdout",
          "text": [
            "CPU times: user 3min 51s, sys: 766 ms, total: 3min 52s\n",
            "Wall time: 3min 53s\n"
          ]
        },
        {
          "output_type": "execute_result",
          "data": {
            "text/plain": [
              "Pipeline(steps=[('vector', CountVectorizer()), ('tfidf', TfidfTransformer()),\n",
              "                ('model', MultinomialNB(alpha=0.7))])"
            ]
          },
          "metadata": {},
          "execution_count": 139
        }
      ]
    },
    {
      "cell_type": "markdown",
      "source": [
        "The average of all cv folds is $0.8587$. AUC on test data is $0.93$.\n",
        "\n",
        "Execution time is 3min 53s. There were 11 combinations in Grid search so we'll calcucate the time of one combination as 3 min 53 s / 11 = $21.18 s$.\n",
        "\n",
        "Now I'd like to try this model on reduced datasets."
      ],
      "metadata": {
        "id": "0cCB43AnNIFf"
      }
    },
    {
      "cell_type": "code",
      "source": [
        "%%time\n",
        "\n",
        "est = build_model(MultinomialNB, parameters_nb, X_train_reduced, y_train, X_test_reduced, y_test)"
      ],
      "metadata": {
        "colab": {
          "base_uri": "https://localhost:8080/",
          "height": 348
        },
        "id": "N98fHQiM5MKq",
        "outputId": "557f3efd-f6a5-4493-b6a0-e1b570176f65"
      },
      "execution_count": null,
      "outputs": [
        {
          "output_type": "stream",
          "name": "stdout",
          "text": [
            "Best score:  0.8644499999999999\n",
            "Best parameters {'model__alpha': 0.7}\n"
          ]
        },
        {
          "output_type": "display_data",
          "data": {
            "text/plain": [
              "<Figure size 432x288 with 1 Axes>"
            ],
            "image/png": "[encoded data removed]"
          },
          "metadata": {
            "needs_background": "light"
          }
        },
        {
          "output_type": "stream",
          "name": "stdout",
          "text": [
            "CPU times: user 2min 52s, sys: 562 ms, total: 2min 53s\n",
            "Wall time: 3min\n"
          ]
        }
      ]
    },
    {
      "cell_type": "markdown",
      "source": [
        "The average of all cv folds is $0.8645$ (profit 0.006 compared to the model on the full dataset). AUC on test data is still $0.93$.\n",
        "\n",
        "Execution time is 3min (profit 22.75% compared to the model on the full dataset). There were 11 combinations in Grid search so we'll calcucate the time of one combination as 3min / 11 = $16.36 s$."
      ],
      "metadata": {
        "id": "jSmSxvqYQnFb"
      }
    },
    {
      "cell_type": "markdown",
      "source": [
        "##SGD"
      ],
      "metadata": {
        "id": "nFDB4ydUu8k4"
      }
    },
    {
      "cell_type": "markdown",
      "source": [
        "The second model is `SGDClassifier`.\n",
        "\n",
        "I'll try it on the full dataset."
      ],
      "metadata": {
        "id": "-gsJP2NNSzWY"
      }
    },
    {
      "cell_type": "code",
      "source": [
        "%%time\n",
        "\n",
        "parameters_sgd = {\n",
        "    \"model__loss\" : [\"hinge\", \"log\", \"squared_hinge\", \"modified_huber\"],\n",
        "    \"model__alpha\" : [0.0001, 0.001, 0.01, 0.1],\n",
        "    \"model__penalty\" : [\"l2\", \"l1\", \"none\"],\n",
        "}\n",
        "\n",
        "build_model(SGDClassifier, parameters_sgd, X_train, y_train, X_test, y_test)"
      ],
      "metadata": {
        "id": "xbt4jmUqY99_",
        "colab": {
          "base_uri": "https://localhost:8080/",
          "height": 383
        },
        "outputId": "c2d9a98e-8a2b-4319-f09d-d0c6459c5823"
      },
      "execution_count": null,
      "outputs": [
        {
          "output_type": "stream",
          "name": "stdout",
          "text": [
            "Best score:  0.8920999999999999\n",
            "Best parameters {'model__alpha': 0.0001, 'model__loss': 'modified_huber', 'model__penalty': 'l2'}\n"
          ]
        },
        {
          "output_type": "display_data",
          "data": {
            "text/plain": [
              "<Figure size 432x288 with 1 Axes>"
            ],
            "image/png": "[encoded data removed]"
          },
          "metadata": {
            "needs_background": "light"
          }
        },
        {
          "output_type": "stream",
          "name": "stdout",
          "text": [
            "CPU times: user 24min 24s, sys: 27.1 s, total: 24min 51s\n",
            "Wall time: 24min 59s\n"
          ]
        },
        {
          "output_type": "execute_result",
          "data": {
            "text/plain": [
              "Pipeline(steps=[('vector', CountVectorizer()), ('tfidf', TfidfTransformer()),\n",
              "                ('model', SGDClassifier(loss='modified_huber'))])"
            ]
          },
          "metadata": {},
          "execution_count": 144
        }
      ]
    },
    {
      "cell_type": "markdown",
      "source": [
        "The average of all cv folds is $0.892$. AUC on test data is $0.96$.\n",
        "\n",
        "Execution time is 24min 59s. There were $4*4*3=48$ combinations in Grid search so we'll calcucate the time of one combination as 24min 59s / 48 = $31.23 s$.\n",
        "\n",
        "Now let's try this model on reduced datasets."
      ],
      "metadata": {
        "id": "rDRyxQhuTDAr"
      }
    },
    {
      "cell_type": "code",
      "source": [
        "%%time\n",
        "\n",
        "build_model(SGDClassifier, parameters_sgd, X_train_reduced, y_train, X_test_reduced, y_test)"
      ],
      "metadata": {
        "colab": {
          "base_uri": "https://localhost:8080/",
          "height": 383
        },
        "id": "A4f_jJZpFrD4",
        "outputId": "7ccbdd0d-85e5-4fd2-9500-1f607f2e893b"
      },
      "execution_count": null,
      "outputs": [
        {
          "output_type": "stream",
          "name": "stdout",
          "text": [
            "Best score:  0.89255\n",
            "Best parameters {'model__alpha': 0.0001, 'model__loss': 'modified_huber', 'model__penalty': 'l2'}\n"
          ]
        },
        {
          "output_type": "display_data",
          "data": {
            "text/plain": [
              "<Figure size 432x288 with 1 Axes>"
            ],
            "image/png": "[encoded data removed]"
          },
          "metadata": {
            "needs_background": "light"
          }
        },
        {
          "output_type": "stream",
          "name": "stdout",
          "text": [
            "CPU times: user 17min 27s, sys: 26 s, total: 17min 53s\n",
            "Wall time: 17min 46s\n"
          ]
        },
        {
          "output_type": "execute_result",
          "data": {
            "text/plain": [
              "Pipeline(steps=[('vector', CountVectorizer()), ('tfidf', TfidfTransformer()),\n",
              "                ('model', SGDClassifier(loss='modified_huber'))])"
            ]
          },
          "metadata": {},
          "execution_count": 143
        }
      ]
    },
    {
      "cell_type": "markdown",
      "source": [
        "The average of all cv folds is $0.8926$ (profit 0.006 compared to the model on the full dataset). AUC on test data is still $0.96$.\n",
        "\n",
        "Execution time is 17min 46s (profit 28.89% compared to the model on the full dataset). There were 48 combinations in Grid search so we'll calcucate the time of one combination as 17min 46s / 48 = $22.21 s$."
      ],
      "metadata": {
        "id": "dorQJ8G7Vxv1"
      }
    },
    {
      "cell_type": "markdown",
      "source": [
        "So, `SGDClassifier` seems to be more accurate compared to `MultinomialNB` but at the same time it's more time-consuming."
      ],
      "metadata": {
        "id": "EFF3mudnWheG"
      }
    },
    {
      "cell_type": "markdown",
      "source": [
        "##SVM"
      ],
      "metadata": {
        "id": "j6-tJ8JXw1I7"
      }
    },
    {
      "cell_type": "markdown",
      "source": [
        "###LinearSVC"
      ],
      "metadata": {
        "id": "h_9SYVUnGrFJ"
      }
    },
    {
      "cell_type": "markdown",
      "source": [
        "The next model is `LinearSVC`."
      ],
      "metadata": {
        "id": "hzYjsrw4equo"
      }
    },
    {
      "cell_type": "code",
      "source": [
        "%%time\n",
        "\n",
        "parameters_lin_svc = {\n",
        "    'model__C': [0.1,1, 10, 100],\n",
        "    'model__loss': [\"hinge\", \"log\", \"squared_hinge\", \"modified_huber\"],\n",
        "    'model__penalty': [\"l2\", \"l1\", \"none\"],\n",
        "}\n",
        "\n",
        "build_model(LinearSVC, parameters_lin_svc, X_train, y_train, X_test, y_test)"
      ],
      "metadata": {
        "colab": {
          "base_uri": "https://localhost:8080/",
          "height": 383
        },
        "id": "GnlhMYnnGu1d",
        "outputId": "3b237caa-4233-49e1-8978-3181148d60cc"
      },
      "execution_count": null,
      "outputs": [
        {
          "output_type": "stream",
          "name": "stdout",
          "text": [
            "Best score:  0.8907\n",
            "Best parameters {'model__C': 1, 'model__loss': 'hinge', 'model__penalty': 'l2'}\n"
          ]
        },
        {
          "output_type": "display_data",
          "data": {
            "text/plain": [
              "<Figure size 432x288 with 1 Axes>"
            ],
            "image/png": "[encoded data removed]"
          },
          "metadata": {
            "needs_background": "light"
          }
        },
        {
          "output_type": "stream",
          "name": "stdout",
          "text": [
            "CPU times: user 16min 47s, sys: 3.14 s, total: 16min 51s\n",
            "Wall time: 17min 10s\n"
          ]
        },
        {
          "output_type": "execute_result",
          "data": {
            "text/plain": [
              "Pipeline(steps=[('vector', CountVectorizer()), ('tfidf', TfidfTransformer()),\n",
              "                ('model', LinearSVC(C=1, loss='hinge'))])"
            ]
          },
          "metadata": {},
          "execution_count": 145
        }
      ]
    },
    {
      "cell_type": "markdown",
      "source": [
        "The average of all cv folds is $0.89$. AUC on test data is $0.96$.\n",
        "\n",
        "Execution time is 17min 10s. There were $4*4*3=48$ combinations in Grid search so we'll calcucate the time of one combination as 17min 10s / 48 = $21.46 s$.\n",
        "\n",
        "Now let's try this model on reduced datasets."
      ],
      "metadata": {
        "id": "6mAfhmABacY7"
      }
    },
    {
      "cell_type": "code",
      "source": [
        "%%time\n",
        "\n",
        "build_model(LinearSVC, parameters_lin_svc, X_train_reduced, y_train, X_test_reduced, y_test)"
      ],
      "metadata": {
        "colab": {
          "base_uri": "https://localhost:8080/",
          "height": 383
        },
        "id": "OsakCIdfZfj-",
        "outputId": "4ec51222-cc6a-43a2-922a-35a4aeb565d7"
      },
      "execution_count": null,
      "outputs": [
        {
          "output_type": "stream",
          "name": "stdout",
          "text": [
            "Best score:  0.890375\n",
            "Best parameters {'model__C': 1, 'model__loss': 'hinge', 'model__penalty': 'l2'}\n"
          ]
        },
        {
          "output_type": "display_data",
          "data": {
            "text/plain": [
              "<Figure size 432x288 with 1 Axes>"
            ],
            "image/png": "[encoded data removed]"
          },
          "metadata": {
            "needs_background": "light"
          }
        },
        {
          "output_type": "stream",
          "name": "stdout",
          "text": [
            "CPU times: user 11min 56s, sys: 2.24 s, total: 11min 59s\n",
            "Wall time: 12min 16s\n"
          ]
        },
        {
          "output_type": "execute_result",
          "data": {
            "text/plain": [
              "Pipeline(steps=[('vector', CountVectorizer()), ('tfidf', TfidfTransformer()),\n",
              "                ('model', LinearSVC(C=1, loss='hinge'))])"
            ]
          },
          "metadata": {},
          "execution_count": 146
        }
      ]
    },
    {
      "cell_type": "markdown",
      "source": [
        "The average of all cv folds is $0.8904$ (no positive profit compared to the model on the full dataset). AUC on test data is still $0.96$.\n",
        "\n",
        "Execution time is 12min 16s (profit 28.54% compared to the model on the full dataset). There were 48 combinations in Grid search so we'll calcucate the time of one combination as 12min 16s / 48 = $15.33 s$."
      ],
      "metadata": {
        "id": "d6hlhMLQdfRi"
      }
    },
    {
      "cell_type": "markdown",
      "source": [
        "So, `LinearSVC`, like `SGDClassifier`, seems to be more accurate than `MultinomialNB` and more time-consuming.\n",
        "\n",
        "There is an insignificant difference (0.0003) between `SGDClassifier` and `LinearSVC` scores in favor of `SGDClassifier`. `LinearSVC` is faster than `SGDClassifier` and has ~30% time advantage."
      ],
      "metadata": {
        "id": "tYQce7xHbDFL"
      }
    },
    {
      "cell_type": "markdown",
      "source": [
        "###SVC"
      ],
      "metadata": {
        "id": "oBYtk8FQS5RY"
      }
    },
    {
      "cell_type": "markdown",
      "source": [
        "`SVC` is really time-consuming classifier so I couldn't manage to feel its full power trying different parameters. I set the maximum number of iterations as 3700."
      ],
      "metadata": {
        "id": "llBaeJ60lItf"
      }
    },
    {
      "cell_type": "code",
      "source": [
        "%%time\n",
        "\n",
        "parameters_svc = {\n",
        "    'model__max_iter': [3700],\n",
        "}\n",
        "\n",
        "build_model(SVC, parameters_svc, X_train_reduced, y_train, X_test_reduced, y_test)"
      ],
      "metadata": {
        "colab": {
          "base_uri": "https://localhost:8080/",
          "height": 383
        },
        "id": "jkd7M3X8ksrv",
        "outputId": "e97077fb-4194-43b2-fc67-df5d55f20c2d"
      },
      "execution_count": null,
      "outputs": [
        {
          "output_type": "stream",
          "name": "stdout",
          "text": [
            "Best score:  0.8843500000000001\n",
            "Best parameters {'model__max_iter': 3700}\n"
          ]
        },
        {
          "output_type": "display_data",
          "data": {
            "text/plain": [
              "<Figure size 432x288 with 1 Axes>"
            ],
            "image/png": "[encoded data removed]"
          },
          "metadata": {
            "needs_background": "light"
          }
        },
        {
          "output_type": "stream",
          "name": "stdout",
          "text": [
            "CPU times: user 23min 32s, sys: 1.83 s, total: 23min 34s\n",
            "Wall time: 24min 10s\n"
          ]
        },
        {
          "output_type": "execute_result",
          "data": {
            "text/plain": [
              "Pipeline(steps=[('vector', CountVectorizer()), ('tfidf', TfidfTransformer()),\n",
              "                ('model', SVC(max_iter=3700))])"
            ]
          },
          "metadata": {},
          "execution_count": 26
        }
      ]
    },
    {
      "cell_type": "markdown",
      "source": [
        "The average of all cv folds is $0.884$ - less than the scores of the previous two models. AUC on test data is $0.95$.\n",
        "\n",
        "Execution time is 24min 10s - the time of one combination."
      ],
      "metadata": {
        "id": "gOsBIlGL3c7S"
      }
    },
    {
      "cell_type": "markdown",
      "source": [
        "Then I set the maximum number of iterations as 7000."
      ],
      "metadata": {
        "id": "D0adenu6W2KL"
      }
    },
    {
      "cell_type": "code",
      "source": [
        "%%time\n",
        "\n",
        "parameters_svc = {\n",
        "    'model__max_iter': [7000],\n",
        "}\n",
        "\n",
        "build_model(SVC, parameters_svc, X_train_reduced, y_train, X_test_reduced, y_test)"
      ],
      "metadata": {
        "colab": {
          "base_uri": "https://localhost:8080/",
          "height": 383
        },
        "id": "aBnlFRDEqT6u",
        "outputId": "2ad13305-7d6b-4fd9-d866-d080e384b61e"
      },
      "execution_count": null,
      "outputs": [
        {
          "output_type": "stream",
          "name": "stdout",
          "text": [
            "Best score:  0.8934749999999999\n",
            "Best parameters {'model__max_iter': 7000}\n"
          ]
        },
        {
          "output_type": "display_data",
          "data": {
            "text/plain": [
              "<Figure size 432x288 with 1 Axes>"
            ],
            "image/png": "[encoded data removed]"
          },
          "metadata": {
            "needs_background": "light"
          }
        },
        {
          "output_type": "stream",
          "name": "stdout",
          "text": [
            "CPU times: user 45min 10s, sys: 2.82 s, total: 45min 13s\n",
            "Wall time: 45min 14s\n"
          ]
        },
        {
          "output_type": "execute_result",
          "data": {
            "text/plain": [
              "Pipeline(steps=[('vector', CountVectorizer()), ('tfidf', TfidfTransformer()),\n",
              "                ('model', SVC(max_iter=7000))])"
            ]
          },
          "metadata": {},
          "execution_count": 26
        }
      ]
    },
    {
      "cell_type": "markdown",
      "source": [
        "The average of all cv folds is $0.8935$ - a little bigger than the scores of the previous two models. AUC on test data is $0.96$.\n",
        "\n",
        "Execution time is 45min 14s - the time of one combination."
      ],
      "metadata": {
        "id": "GLmJTvAFXHWb"
      }
    },
    {
      "cell_type": "markdown",
      "source": [
        "#Conclusions"
      ],
      "metadata": {
        "id": "8Sso3m7OoMV0"
      }
    },
    {
      "cell_type": "markdown",
      "source": [
        "I observed four models: `MultinomialNB`, `SGDClassifier`, `LinearSVC` and `SVC`. The fastest model among the presented was `MultinomialNB`. At the same time, it gives the lowest score. The score difference between `SGDClassifier` and `LinearSVC` is insignificant but `LinearSVC` takes less time. `SVC` has chances to give good results but it is the slowest algorithm compared to others. As for this task, I'd prefer using `LinearSVC`.\n",
        "\n",
        "Also, reducing the number of features seems to speed up the training of the models without loss of quality.\n",
        "\n",
        "Possible improvements:\n",
        "\n",
        "- More thorough text cleaning. Text may contain typos or slang, for example, and it could be considered.\n",
        "- Taking into account the specifics of the subject area.\n",
        "- Trying to use TextBlob. For example, considering feature analysis in groups, considering Part of Speech tags.\n",
        "- Parallelization of operations."
      ],
      "metadata": {
        "id": "1FgQxsqxq3Ux"
      }
    }
  ],
  "metadata": {
    "colab": {
      "provenance": []
    },
    "kernelspec": {
      "display_name": "Python 3",
      "name": "python3"
    },
    "language_info": {
      "name": "python"
    },
    "gpuClass": "standard"
  },
  "nbformat": 4,
  "nbformat_minor": 0
}